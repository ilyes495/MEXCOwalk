{
 "cells": [
  {
   "cell_type": "code",
   "execution_count": 27,
   "metadata": {},
   "outputs": [],
   "source": [
    "from lifelines.datasets import load_rossi\n",
    "from lifelines import CoxPHFitter\n",
    "from scipy.stats import norm"
   ]
  },
  {
   "cell_type": "code",
   "execution_count": 2,
   "metadata": {},
   "outputs": [],
   "source": [
    "%matplotlib inline\n",
    "import os\n",
    "from os import path\n",
    "from glob import glob\n",
    "import numpy as np\n",
    "import pandas as pd\n",
    "from tqdm import tqdm, trange\n",
    "from utils import *"
   ]
  },
  {
   "cell_type": "code",
   "execution_count": 25,
   "metadata": {},
   "outputs": [],
   "source": [
    "def invers_norm(data):\n",
    "    rank = np.argsort(data)\n",
    "    q = [0 for _ in range(len(rank))]\n",
    "    for i,k in enumerate(rank):\n",
    "        q[k] = i+1\n",
    "    q = (np.array(q)-0.5) /len(q)\n",
    "    return norm.ppf(q)"
   ]
  },
  {
   "cell_type": "code",
   "execution_count": 14,
   "metadata": {
    "collapsed": true
   },
   "outputs": [],
   "source": [
    "# cancer_type = 'Lung'\n",
    "# cluster_num = 3\n",
    "# rand_run = 4\n",
    "# clinical_filename = '/home/tunthey/Dropbox/Tunde/analysis/new_datasets/' + cancer_type + '/' + cancer_type +  '_clinical_data.txt'\n",
    "# drug_filename = '/home/tunthey/Dropbox/Tunde/analysis/new_datasets/' + cancer_type + '/' + cancer_type +  '_drug_data.txt'\n",
    "# cluster_label = '/home/tunthey/Dropbox/Tunde/analysis/new_results/MVKKM_newdata/labels/' + cancer_type + '_mvkkm_labels_K' +  str(cluster_num) + '_random_init_run' + str(rand_run) + '_rbf_kernel_old_gamma_with_shankar_distance_second_derv.txt'\n",
    "# pam50_file = '/home/tunthey/Dropbox/Tunde/analysis/PAM50/bioclassifier_R/Breastcancerpan50subtyperesult_pam50scores.txt'\n"
   ]
  },
  {
   "cell_type": "code",
   "execution_count": 34,
   "metadata": {},
   "outputs": [],
   "source": [
    "# cluster_l = open(cluster_label).readlines()\n",
    "# cluster_list = [s.rstrip() for s in cluster_l]\n",
    "# np.array(cluster_list)\n",
    "# cluster_list"
   ]
  },
  {
   "cell_type": "code",
   "execution_count": 4,
   "metadata": {},
   "outputs": [],
   "source": [
    "# rossi_dataset = load_rossi()\n",
    "# cph = CoxPHFitter()\n",
    "# cph.fit(rossi_dataset, duration_col='week', event_col='arrest')\n",
    "\n",
    "# cph.plot()\n"
   ]
  },
  {
   "cell_type": "code",
   "execution_count": 3,
   "metadata": {},
   "outputs": [],
   "source": [
    "with open('../data/exp_final_gene_list.txt', 'r') as f:\n",
    "    final_genes= [l.rstrip() for l in f.readlines()]\n",
    "with open('../data/hint_inters_pan.txt', 'r') as f:\n",
    "    hint_u_pan= [l.rstrip() for l in f.readlines()]"
   ]
  },
  {
   "cell_type": "code",
   "execution_count": 4,
   "metadata": {},
   "outputs": [],
   "source": [
    "cancer_types = ['BLCA','BRCA','CRC', 'GBM', 'HNSC', 'KIRC', 'LAML', 'LUAD', 'LUSC', 'OV', 'UCEC']"
   ]
  },
  {
   "cell_type": "code",
   "execution_count": 5,
   "metadata": {},
   "outputs": [],
   "source": [
    "comps = []\n",
    "significant_cancers =[]\n",
    "with open('../hint/out/cancer_subtype_test_results/mutex_t07_nsep_cov_nsep/cc_n100_cancer_subtype_tests.txt', 'r') as f:\n",
    "    lines = f.readlines()[:]\n",
    "    for i in range(0,len(lines), 12):\n",
    "        comp = lines[i].strip().split('[')[-1].split(',')\n",
    "        comp = [c.replace(']', '').replace('\\'', '').strip() for c in comp]\n",
    "        comps.append(comp)\n",
    "        type_interest = [j-1 for j in range(1,12) if len(lines[i+j].split()) ==8]\n",
    "        significant_cancers.append(type_interest)\n",
    "        "
   ]
  },
  {
   "cell_type": "code",
   "execution_count": 6,
   "metadata": {},
   "outputs": [],
   "source": [
    "cancer2modules = {}\n",
    "for i,m in enumerate(comps):\n",
    "    for t in significant_cancers[i]:\n",
    "        if cancer_types[t] in cancer2modules.keys():\n",
    "            cancer2modules[cancer_types[t]].append(m)\n",
    "        else:\n",
    "            cancer2modules[cancer_types[t]] = [m]"
   ]
  },
  {
   "cell_type": "code",
   "execution_count": 7,
   "metadata": {},
   "outputs": [],
   "source": [
    "module2id = {str(m):i for i,m in enumerate(comps)}\n",
    "id2module = {i:str(m) for i,m in enumerate(comps)}"
   ]
  },
  {
   "cell_type": "code",
   "execution_count": 8,
   "metadata": {},
   "outputs": [
    {
     "data": {
      "text/plain": [
       "dict_keys(['HNSC', 'LAML', 'LUAD', 'KIRC', 'OV', 'BRCA', 'GBM', 'LUSC', 'UCEC', 'CRC'])"
      ]
     },
     "execution_count": 8,
     "metadata": {},
     "output_type": "execute_result"
    }
   ],
   "source": [
    "cancer2modules.keys()"
   ]
  },
  {
   "cell_type": "code",
   "execution_count": 9,
   "metadata": {},
   "outputs": [
    {
     "data": {
      "text/plain": [
       "\"['POLR2A', 'SMARCA2', 'SMARCA4']\""
      ]
     },
     "execution_count": 9,
     "metadata": {},
     "output_type": "execute_result"
    }
   ],
   "source": [
    "id2module[0]"
   ]
  },
  {
   "cell_type": "code",
   "execution_count": 10,
   "metadata": {},
   "outputs": [],
   "source": [
    "out_path = '../hint/out/'\n",
    "data_path = '../data/'\n",
    "data_files = 'pancancer/'\n",
    "clinic_path = data_path+'clinical_data/'\n",
    "clinic_file = '{}_clinical_data.txt'\n",
    "files = glob(data_path+data_files+'*/[!MANIFEST]*.txt')"
   ]
  },
  {
   "cell_type": "code",
   "execution_count": 11,
   "metadata": {},
   "outputs": [],
   "source": [
    "cancer2file = {c.split('/')[-1].split('.')[0]:c for c in files}"
   ]
  },
  {
   "cell_type": "code",
   "execution_count": 12,
   "metadata": {},
   "outputs": [],
   "source": [
    "df = pd.read_csv(cancer2file['OV'], delimiter = '\\t', low_memory=False)\n",
    "df.drop(df.index[0], inplace=True)\n",
    "gene_and_id = df.iloc[:, 0].values\n",
    "df.index = final_genes\n",
    "df.drop(df.columns[0], axis=1, inplace= True)\n",
    "df = df.loc[list(hint_u_pan)]"
   ]
  },
  {
   "cell_type": "code",
   "execution_count": 13,
   "metadata": {},
   "outputs": [],
   "source": [
    "df_ = df.T\n",
    "df_.index.names = ['patients']\n",
    "df_.columns.name = 'genes'"
   ]
  },
  {
   "cell_type": "code",
   "execution_count": 15,
   "metadata": {},
   "outputs": [],
   "source": [
    "ids= [s.split('-')[3] for s in df_.index]"
   ]
  },
  {
   "cell_type": "code",
   "execution_count": 16,
   "metadata": {},
   "outputs": [
    {
     "data": {
      "text/plain": [
       "(array(['01A', '01B', '01C', '01R', '02A'], dtype='<U3'),\n",
       " array([292,   9,   1,   1,   4]))"
      ]
     },
     "execution_count": 16,
     "metadata": {},
     "output_type": "execute_result"
    }
   ],
   "source": [
    "np.unique(ids, return_counts=True)"
   ]
  },
  {
   "cell_type": "code",
   "execution_count": 17,
   "metadata": {},
   "outputs": [],
   "source": [
    "names = ['-'.join(x.split('-')[:3]) for x in df_.index]\n",
    "unique = np.unique(names, return_counts=True)"
   ]
  },
  {
   "cell_type": "code",
   "execution_count": 18,
   "metadata": {},
   "outputs": [],
   "source": [
    "keep_patient = [x.split('-')[3][:2] == '01' for x in df_.index]\n",
    "df_ = df_.loc[keep_patient]"
   ]
  },
  {
   "cell_type": "code",
   "execution_count": 19,
   "metadata": {},
   "outputs": [
    {
     "data": {
      "text/plain": [
       "(303, 9523)"
      ]
     },
     "execution_count": 19,
     "metadata": {},
     "output_type": "execute_result"
    }
   ],
   "source": [
    "df_.shape"
   ]
  },
  {
   "cell_type": "code",
   "execution_count": 20,
   "metadata": {},
   "outputs": [],
   "source": [
    "df_.index = ['-'.join(x.split('-')[:3]) for x in df_.index]\n",
    "df_.index.names = ['patients']"
   ]
  },
  {
   "cell_type": "code",
   "execution_count": 22,
   "metadata": {},
   "outputs": [],
   "source": [
    "# df_.loc['TCGA-04-1348']"
   ]
  },
  {
   "cell_type": "code",
   "execution_count": 23,
   "metadata": {},
   "outputs": [],
   "source": [
    "# np.unique(df_.index.values, return_counts=True)"
   ]
  },
  {
   "cell_type": "code",
   "execution_count": 330,
   "metadata": {},
   "outputs": [],
   "source": [
    "from rank_based_inverse_normal_transformation import *"
   ]
  },
  {
   "cell_type": "code",
   "execution_count": 28,
   "metadata": {},
   "outputs": [],
   "source": [
    "df3 = df_.apply(invers_norm, axis = 0)"
   ]
  },
  {
   "cell_type": "code",
   "execution_count": 46,
   "metadata": {},
   "outputs": [],
   "source": [
    "df2 = df_clinical.join(df3)"
   ]
  },
  {
   "cell_type": "code",
   "execution_count": 47,
   "metadata": {},
   "outputs": [],
   "source": [
    "df2 = df2.loc[~df2[df2.columns[4:]].isnull().any(axis=1)]"
   ]
  },
  {
   "cell_type": "code",
   "execution_count": 434,
   "metadata": {},
   "outputs": [
    {
     "data": {
      "text/html": [
       "<div>\n",
       "<style scoped>\n",
       "    .dataframe tbody tr th:only-of-type {\n",
       "        vertical-align: middle;\n",
       "    }\n",
       "\n",
       "    .dataframe tbody tr th {\n",
       "        vertical-align: top;\n",
       "    }\n",
       "\n",
       "    .dataframe thead th {\n",
       "        text-align: right;\n",
       "    }\n",
       "</style>\n",
       "<table border=\"1\" class=\"dataframe\">\n",
       "  <thead>\n",
       "    <tr style=\"text-align: right;\">\n",
       "      <th>genes</th>\n",
       "      <th>NUP98</th>\n",
       "      <th>ZKSCAN5</th>\n",
       "      <th>LRRC7</th>\n",
       "      <th>RHO</th>\n",
       "      <th>WASH3P</th>\n",
       "      <th>KIF21B</th>\n",
       "      <th>LASP1</th>\n",
       "      <th>C2orf62</th>\n",
       "      <th>FSTL3</th>\n",
       "      <th>ITPR3</th>\n",
       "      <th>...</th>\n",
       "      <th>LCA5</th>\n",
       "      <th>CACNB2</th>\n",
       "      <th>AMPH</th>\n",
       "      <th>GNG10</th>\n",
       "      <th>COMTD1</th>\n",
       "      <th>KNG1</th>\n",
       "      <th>RRAGB</th>\n",
       "      <th>RRAGC</th>\n",
       "      <th>TMED2</th>\n",
       "      <th>TRPT1</th>\n",
       "    </tr>\n",
       "    <tr>\n",
       "      <th>patients</th>\n",
       "      <th></th>\n",
       "      <th></th>\n",
       "      <th></th>\n",
       "      <th></th>\n",
       "      <th></th>\n",
       "      <th></th>\n",
       "      <th></th>\n",
       "      <th></th>\n",
       "      <th></th>\n",
       "      <th></th>\n",
       "      <th></th>\n",
       "      <th></th>\n",
       "      <th></th>\n",
       "      <th></th>\n",
       "      <th></th>\n",
       "      <th></th>\n",
       "      <th></th>\n",
       "      <th></th>\n",
       "      <th></th>\n",
       "      <th></th>\n",
       "      <th></th>\n",
       "    </tr>\n",
       "  </thead>\n",
       "  <tbody>\n",
       "    <tr>\n",
       "      <th>TCGA-04-1348-01A-01R-1565-13</th>\n",
       "      <td>2595.3213</td>\n",
       "      <td>412.4765</td>\n",
       "      <td>3.4956</td>\n",
       "      <td>0.2689</td>\n",
       "      <td>739.4461</td>\n",
       "      <td>93.3047</td>\n",
       "      <td>4250.3361</td>\n",
       "      <td>8.0667</td>\n",
       "      <td>213.7671</td>\n",
       "      <td>2736.2087</td>\n",
       "      <td>...</td>\n",
       "      <td>33.8801</td>\n",
       "      <td>13.4445</td>\n",
       "      <td>6.9911</td>\n",
       "      <td>764.6276</td>\n",
       "      <td>434.5254</td>\n",
       "      <td>0.0000</td>\n",
       "      <td>267.0073</td>\n",
       "      <td>219.0777</td>\n",
       "      <td>9459.5321</td>\n",
       "      <td>670.6104</td>\n",
       "    </tr>\n",
       "    <tr>\n",
       "      <th>TCGA-04-1357-01A-01R-1565-13</th>\n",
       "      <td>1252.6042</td>\n",
       "      <td>501.9531</td>\n",
       "      <td>0.0000</td>\n",
       "      <td>0.0000</td>\n",
       "      <td>393.2292</td>\n",
       "      <td>315.7552</td>\n",
       "      <td>4565.7552</td>\n",
       "      <td>3.9062</td>\n",
       "      <td>289.7135</td>\n",
       "      <td>3390.9115</td>\n",
       "      <td>...</td>\n",
       "      <td>73.5677</td>\n",
       "      <td>20.1823</td>\n",
       "      <td>234.3750</td>\n",
       "      <td>542.3177</td>\n",
       "      <td>326.8229</td>\n",
       "      <td>0.0000</td>\n",
       "      <td>261.0677</td>\n",
       "      <td>281.2500</td>\n",
       "      <td>6087.8906</td>\n",
       "      <td>571.6146</td>\n",
       "    </tr>\n",
       "    <tr>\n",
       "      <th>TCGA-04-1362-01A-01R-1565-13</th>\n",
       "      <td>1877.5287</td>\n",
       "      <td>223.7281</td>\n",
       "      <td>1.9858</td>\n",
       "      <td>4.6334</td>\n",
       "      <td>715.5327</td>\n",
       "      <td>176.4010</td>\n",
       "      <td>5779.8628</td>\n",
       "      <td>2.6477</td>\n",
       "      <td>183.6821</td>\n",
       "      <td>4397.7263</td>\n",
       "      <td>...</td>\n",
       "      <td>228.6925</td>\n",
       "      <td>17.2099</td>\n",
       "      <td>53.6153</td>\n",
       "      <td>1664.7223</td>\n",
       "      <td>439.8441</td>\n",
       "      <td>0.3310</td>\n",
       "      <td>285.2864</td>\n",
       "      <td>311.7135</td>\n",
       "      <td>8183.6159</td>\n",
       "      <td>894.9123</td>\n",
       "    </tr>\n",
       "    <tr>\n",
       "      <th>TCGA-04-1364-01A-01R-1565-13</th>\n",
       "      <td>2235.0277</td>\n",
       "      <td>694.5505</td>\n",
       "      <td>0.0000</td>\n",
       "      <td>0.0000</td>\n",
       "      <td>1021.4725</td>\n",
       "      <td>360.4200</td>\n",
       "      <td>3575.3659</td>\n",
       "      <td>26.2895</td>\n",
       "      <td>289.1840</td>\n",
       "      <td>818.3611</td>\n",
       "      <td>...</td>\n",
       "      <td>172.1535</td>\n",
       "      <td>17.3850</td>\n",
       "      <td>17.3850</td>\n",
       "      <td>652.1481</td>\n",
       "      <td>981.1903</td>\n",
       "      <td>0.0000</td>\n",
       "      <td>80.9885</td>\n",
       "      <td>162.6978</td>\n",
       "      <td>6663.1049</td>\n",
       "      <td>552.9266</td>\n",
       "    </tr>\n",
       "    <tr>\n",
       "      <th>TCGA-04-1365-01A-01R-1565-13</th>\n",
       "      <td>1647.1297</td>\n",
       "      <td>423.0827</td>\n",
       "      <td>62.6789</td>\n",
       "      <td>2.1094</td>\n",
       "      <td>813.9220</td>\n",
       "      <td>86.4849</td>\n",
       "      <td>5431.9723</td>\n",
       "      <td>8.1362</td>\n",
       "      <td>231.1285</td>\n",
       "      <td>3265.2192</td>\n",
       "      <td>...</td>\n",
       "      <td>106.0720</td>\n",
       "      <td>12.9577</td>\n",
       "      <td>29.8328</td>\n",
       "      <td>809.4018</td>\n",
       "      <td>467.6812</td>\n",
       "      <td>0.0000</td>\n",
       "      <td>155.7933</td>\n",
       "      <td>278.1377</td>\n",
       "      <td>9837.5772</td>\n",
       "      <td>1042.0371</td>\n",
       "    </tr>\n",
       "  </tbody>\n",
       "</table>\n",
       "<p>5 rows × 9523 columns</p>\n",
       "</div>"
      ],
      "text/plain": [
       "genes                             NUP98   ZKSCAN5    LRRC7     RHO     WASH3P  \\\n",
       "patients                                                                        \n",
       "TCGA-04-1348-01A-01R-1565-13  2595.3213  412.4765   3.4956  0.2689   739.4461   \n",
       "TCGA-04-1357-01A-01R-1565-13  1252.6042  501.9531   0.0000  0.0000   393.2292   \n",
       "TCGA-04-1362-01A-01R-1565-13  1877.5287  223.7281   1.9858  4.6334   715.5327   \n",
       "TCGA-04-1364-01A-01R-1565-13  2235.0277  694.5505   0.0000  0.0000  1021.4725   \n",
       "TCGA-04-1365-01A-01R-1565-13  1647.1297  423.0827  62.6789  2.1094   813.9220   \n",
       "\n",
       "genes                           KIF21B      LASP1  C2orf62     FSTL3  \\\n",
       "patients                                                               \n",
       "TCGA-04-1348-01A-01R-1565-13   93.3047  4250.3361   8.0667  213.7671   \n",
       "TCGA-04-1357-01A-01R-1565-13  315.7552  4565.7552   3.9062  289.7135   \n",
       "TCGA-04-1362-01A-01R-1565-13  176.4010  5779.8628   2.6477  183.6821   \n",
       "TCGA-04-1364-01A-01R-1565-13  360.4200  3575.3659  26.2895  289.1840   \n",
       "TCGA-04-1365-01A-01R-1565-13   86.4849  5431.9723   8.1362  231.1285   \n",
       "\n",
       "genes                             ITPR3    ...          LCA5   CACNB2  \\\n",
       "patients                                   ...                          \n",
       "TCGA-04-1348-01A-01R-1565-13  2736.2087    ...       33.8801  13.4445   \n",
       "TCGA-04-1357-01A-01R-1565-13  3390.9115    ...       73.5677  20.1823   \n",
       "TCGA-04-1362-01A-01R-1565-13  4397.7263    ...      228.6925  17.2099   \n",
       "TCGA-04-1364-01A-01R-1565-13   818.3611    ...      172.1535  17.3850   \n",
       "TCGA-04-1365-01A-01R-1565-13  3265.2192    ...      106.0720  12.9577   \n",
       "\n",
       "genes                             AMPH      GNG10    COMTD1    KNG1     RRAGB  \\\n",
       "patients                                                                        \n",
       "TCGA-04-1348-01A-01R-1565-13    6.9911   764.6276  434.5254  0.0000  267.0073   \n",
       "TCGA-04-1357-01A-01R-1565-13  234.3750   542.3177  326.8229  0.0000  261.0677   \n",
       "TCGA-04-1362-01A-01R-1565-13   53.6153  1664.7223  439.8441  0.3310  285.2864   \n",
       "TCGA-04-1364-01A-01R-1565-13   17.3850   652.1481  981.1903  0.0000   80.9885   \n",
       "TCGA-04-1365-01A-01R-1565-13   29.8328   809.4018  467.6812  0.0000  155.7933   \n",
       "\n",
       "genes                            RRAGC      TMED2      TRPT1  \n",
       "patients                                                      \n",
       "TCGA-04-1348-01A-01R-1565-13  219.0777  9459.5321   670.6104  \n",
       "TCGA-04-1357-01A-01R-1565-13  281.2500  6087.8906   571.6146  \n",
       "TCGA-04-1362-01A-01R-1565-13  311.7135  8183.6159   894.9123  \n",
       "TCGA-04-1364-01A-01R-1565-13  162.6978  6663.1049   552.9266  \n",
       "TCGA-04-1365-01A-01R-1565-13  278.1377  9837.5772  1042.0371  \n",
       "\n",
       "[5 rows x 9523 columns]"
      ]
     },
     "execution_count": 434,
     "metadata": {},
     "output_type": "execute_result"
    }
   ],
   "source": [
    "df_.head()"
   ]
  },
  {
   "cell_type": "code",
   "execution_count": 49,
   "metadata": {},
   "outputs": [
    {
     "data": {
      "text/plain": [
       "(301, 9527)"
      ]
     },
     "execution_count": 49,
     "metadata": {},
     "output_type": "execute_result"
    }
   ],
   "source": [
    "df2.shape"
   ]
  },
  {
   "cell_type": "code",
   "execution_count": 206,
   "metadata": {},
   "outputs": [],
   "source": [
    "for module in cancer2modules['LAML']:\n",
    "\n",
    "        module_id = module2id[str(module)]\n",
    "#         if not os.path.exists(results_path+'{}/'.format(module_id)):\n",
    "#             os.mkdir(results_path+'{}/'.format(module_id))\n",
    "#         csv_path = results_path+'{}/{}.csv'.format(module_id, cancer)\n",
    "        df2 = df2.astype('float')\n",
    "        tmp_df  = df2[module+['event','time_to_event']]\n",
    "        cph = CoxPHFitter()\n",
    "        cph.fit(tmp_df, duration_col='time_to_event', event_col='event', show_progress=False)\n",
    "        s = cph.summary"
   ]
  },
  {
   "cell_type": "code",
   "execution_count": 40,
   "metadata": {},
   "outputs": [],
   "source": [
    "clinical_data = clinic_file.format('OV')\n",
    "df_clinical = pd.read_csv(clinic_path+clinical_data,usecols = ['patient_id','age', 'gender','event','time_to_event'], delimiter = '\\t', low_memory=False)"
   ]
  },
  {
   "cell_type": "code",
   "execution_count": 41,
   "metadata": {},
   "outputs": [],
   "source": [
    "df_clinical = df_clinical.set_index('patient_id')\n",
    "df_clinical.index.names = ['patients']\n",
    "#df_clinic.set_index('patient_id')"
   ]
  },
  {
   "cell_type": "code",
   "execution_count": 42,
   "metadata": {},
   "outputs": [],
   "source": [
    "df_clinical =df_clinical[~df_clinical.isnull().any(axis=1)]"
   ]
  },
  {
   "cell_type": "code",
   "execution_count": 43,
   "metadata": {},
   "outputs": [
    {
     "data": {
      "text/html": [
       "<div>\n",
       "<style scoped>\n",
       "    .dataframe tbody tr th:only-of-type {\n",
       "        vertical-align: middle;\n",
       "    }\n",
       "\n",
       "    .dataframe tbody tr th {\n",
       "        vertical-align: top;\n",
       "    }\n",
       "\n",
       "    .dataframe thead th {\n",
       "        text-align: right;\n",
       "    }\n",
       "</style>\n",
       "<table border=\"1\" class=\"dataframe\">\n",
       "  <thead>\n",
       "    <tr style=\"text-align: right;\">\n",
       "      <th></th>\n",
       "      <th>event</th>\n",
       "      <th>time_to_event</th>\n",
       "      <th>age</th>\n",
       "      <th>gender</th>\n",
       "    </tr>\n",
       "    <tr>\n",
       "      <th>patients</th>\n",
       "      <th></th>\n",
       "      <th></th>\n",
       "      <th></th>\n",
       "      <th></th>\n",
       "    </tr>\n",
       "  </thead>\n",
       "  <tbody>\n",
       "  </tbody>\n",
       "</table>\n",
       "</div>"
      ],
      "text/plain": [
       "Empty DataFrame\n",
       "Columns: [event, time_to_event, age, gender]\n",
       "Index: []"
      ]
     },
     "execution_count": 43,
     "metadata": {},
     "output_type": "execute_result"
    }
   ],
   "source": [
    "df_clinical[df_clinical.isnull().any(axis=1) == True]"
   ]
  },
  {
   "cell_type": "code",
   "execution_count": 44,
   "metadata": {},
   "outputs": [
    {
     "data": {
      "text/plain": [
       "(575, 4)"
      ]
     },
     "execution_count": 44,
     "metadata": {},
     "output_type": "execute_result"
    }
   ],
   "source": [
    "df_clinical.shape"
   ]
  },
  {
   "cell_type": "code",
   "execution_count": 45,
   "metadata": {},
   "outputs": [
    {
     "data": {
      "text/html": [
       "<div>\n",
       "<style scoped>\n",
       "    .dataframe tbody tr th:only-of-type {\n",
       "        vertical-align: middle;\n",
       "    }\n",
       "\n",
       "    .dataframe tbody tr th {\n",
       "        vertical-align: top;\n",
       "    }\n",
       "\n",
       "    .dataframe thead th {\n",
       "        text-align: right;\n",
       "    }\n",
       "</style>\n",
       "<table border=\"1\" class=\"dataframe\">\n",
       "  <thead>\n",
       "    <tr style=\"text-align: right;\">\n",
       "      <th></th>\n",
       "      <th>event</th>\n",
       "      <th>time_to_event</th>\n",
       "      <th>age</th>\n",
       "      <th>gender</th>\n",
       "    </tr>\n",
       "    <tr>\n",
       "      <th>patients</th>\n",
       "      <th></th>\n",
       "      <th></th>\n",
       "      <th></th>\n",
       "      <th></th>\n",
       "    </tr>\n",
       "  </thead>\n",
       "  <tbody>\n",
       "    <tr>\n",
       "      <th>TCGA-3P-A9WA</th>\n",
       "      <td>1</td>\n",
       "      <td>243.0</td>\n",
       "      <td>55</td>\n",
       "      <td>1</td>\n",
       "    </tr>\n",
       "    <tr>\n",
       "      <th>TCGA-59-A5PD</th>\n",
       "      <td>0</td>\n",
       "      <td>624.0</td>\n",
       "      <td>55</td>\n",
       "      <td>1</td>\n",
       "    </tr>\n",
       "    <tr>\n",
       "      <th>TCGA-5X-AA5U</th>\n",
       "      <td>1</td>\n",
       "      <td>277.0</td>\n",
       "      <td>61</td>\n",
       "      <td>1</td>\n",
       "    </tr>\n",
       "    <tr>\n",
       "      <th>TCGA-04-1331</th>\n",
       "      <td>0</td>\n",
       "      <td>1336.0</td>\n",
       "      <td>78</td>\n",
       "      <td>1</td>\n",
       "    </tr>\n",
       "    <tr>\n",
       "      <th>TCGA-04-1332</th>\n",
       "      <td>0</td>\n",
       "      <td>1247.0</td>\n",
       "      <td>70</td>\n",
       "      <td>1</td>\n",
       "    </tr>\n",
       "  </tbody>\n",
       "</table>\n",
       "</div>"
      ],
      "text/plain": [
       "              event  time_to_event  age  gender\n",
       "patients                                       \n",
       "TCGA-3P-A9WA      1          243.0   55       1\n",
       "TCGA-59-A5PD      0          624.0   55       1\n",
       "TCGA-5X-AA5U      1          277.0   61       1\n",
       "TCGA-04-1331      0         1336.0   78       1\n",
       "TCGA-04-1332      0         1247.0   70       1"
      ]
     },
     "execution_count": 45,
     "metadata": {},
     "output_type": "execute_result"
    }
   ],
   "source": [
    "df_clinical.head()"
   ]
  },
  {
   "cell_type": "code",
   "execution_count": 40,
   "metadata": {},
   "outputs": [],
   "source": [
    "df1 = df_.astype('float')"
   ]
  },
  {
   "cell_type": "code",
   "execution_count": 53,
   "metadata": {},
   "outputs": [
    {
     "data": {
      "text/plain": [
       "NOTCH1           False\n",
       "age              False\n",
       "gender           False\n",
       "event            False\n",
       "time_to_event    False\n",
       "dtype: bool"
      ]
     },
     "execution_count": 53,
     "metadata": {},
     "output_type": "execute_result"
    }
   ],
   "source": [
    "tmp_df.isnull().any()"
   ]
  },
  {
   "cell_type": "code",
   "execution_count": 54,
   "metadata": {},
   "outputs": [
    {
     "name": "stdout",
     "output_type": "stream",
     "text": [
      "Iteration 1: norm_delta = 0.25530, step_size = 0.95000, ll = -632.32135, newton_decrement = 3.60896, seconds_since_start = 0.0\n",
      "Iteration 2: norm_delta = 0.01077, step_size = 0.95000, ll = -628.74333, newton_decrement = 0.00662, seconds_since_start = 0.0\n",
      "Iteration 3: norm_delta = 0.00055, step_size = 0.95000, ll = -628.73672, newton_decrement = 0.00002, seconds_since_start = 0.1\n",
      "Iteration 4: norm_delta = 0.00003, step_size = 0.95000, ll = -628.73671, newton_decrement = 0.00000, seconds_since_start = 0.1\n",
      "Convergence completed after 4 iterations.\n"
     ]
    },
    {
     "data": {
      "text/plain": [
       "<lifelines.CoxPHFitter: fitted with 301 observations, 171 censored>"
      ]
     },
     "execution_count": 54,
     "metadata": {},
     "output_type": "execute_result"
    }
   ],
   "source": [
    "tmp_df  = df2[['NOTCH1']+['age','event','time_to_event']].astype('float')\n",
    "cph = CoxPHFitter()\n",
    "cph.fit(tmp_df, duration_col='time_to_event', event_col='event', show_progress=True)"
   ]
  },
  {
   "cell_type": "code",
   "execution_count": 377,
   "metadata": {},
   "outputs": [],
   "source": [
    "s = cph.summary"
   ]
  },
  {
   "cell_type": "code",
   "execution_count": 378,
   "metadata": {},
   "outputs": [
    {
     "name": "stdout",
     "output_type": "stream",
     "text": [
      "<lifelines.CoxPHFitter: fitted with 152 observations, 32 censored>\n",
      "      duration col = 'time_to_event'\n",
      "         event col = 'event'\n",
      "number of subjects = 152\n",
      "  number of events = 120\n",
      "    log-likelihood = -471.96\n",
      "  time fit was run = 2019-01-24 06:22:22 UTC\n",
      "\n",
      "---\n",
      "        coef  exp(coef)  se(coef)     z      p  log(p)  lower 0.95  upper 0.95    \n",
      "NOTCH1 -0.10       0.90      0.10 -1.06   0.29   -1.24       -0.29        0.09    \n",
      "age     0.03       1.03      0.01  3.66 <0.005   -8.29        0.01        0.04  **\n",
      "gender  0.12       1.13      0.19  0.62   0.53   -0.63       -0.26        0.50    \n",
      "---\n",
      "Signif. codes: 0 '***' 0.0001 '**' 0.001 '*' 0.01 '.' 0.05 ' ' 1\n",
      "\n",
      "Concordance = 0.61\n",
      "Likelihood ratio test = 15.49 on 3 df, log(p)=-6.54\n"
     ]
    }
   ],
   "source": [
    "cph.print_summary()"
   ]
  },
  {
   "cell_type": "code",
   "execution_count": 379,
   "metadata": {},
   "outputs": [
    {
     "data": {
      "text/html": [
       "<div>\n",
       "<style scoped>\n",
       "    .dataframe tbody tr th:only-of-type {\n",
       "        vertical-align: middle;\n",
       "    }\n",
       "\n",
       "    .dataframe tbody tr th {\n",
       "        vertical-align: top;\n",
       "    }\n",
       "\n",
       "    .dataframe thead th {\n",
       "        text-align: right;\n",
       "    }\n",
       "</style>\n",
       "<table border=\"1\" class=\"dataframe\">\n",
       "  <thead>\n",
       "    <tr style=\"text-align: right;\">\n",
       "      <th></th>\n",
       "      <th>coef</th>\n",
       "      <th>exp(coef)</th>\n",
       "      <th>se(coef)</th>\n",
       "      <th>z</th>\n",
       "      <th>p</th>\n",
       "      <th>log(p)</th>\n",
       "      <th>lower 0.95</th>\n",
       "      <th>upper 0.95</th>\n",
       "    </tr>\n",
       "  </thead>\n",
       "  <tbody>\n",
       "    <tr>\n",
       "      <th>NOTCH1</th>\n",
       "      <td>-0.101338</td>\n",
       "      <td>0.903628</td>\n",
       "      <td>0.095587</td>\n",
       "      <td>-1.060160</td>\n",
       "      <td>0.289072</td>\n",
       "      <td>-1.241081</td>\n",
       "      <td>-0.288685</td>\n",
       "      <td>0.086010</td>\n",
       "    </tr>\n",
       "    <tr>\n",
       "      <th>age</th>\n",
       "      <td>0.027775</td>\n",
       "      <td>1.028164</td>\n",
       "      <td>0.007584</td>\n",
       "      <td>3.662381</td>\n",
       "      <td>0.000250</td>\n",
       "      <td>-8.294521</td>\n",
       "      <td>0.012911</td>\n",
       "      <td>0.042639</td>\n",
       "    </tr>\n",
       "    <tr>\n",
       "      <th>gender</th>\n",
       "      <td>0.120577</td>\n",
       "      <td>1.128147</td>\n",
       "      <td>0.194207</td>\n",
       "      <td>0.620868</td>\n",
       "      <td>0.534687</td>\n",
       "      <td>-0.626075</td>\n",
       "      <td>-0.260061</td>\n",
       "      <td>0.501214</td>\n",
       "    </tr>\n",
       "  </tbody>\n",
       "</table>\n",
       "</div>"
      ],
      "text/plain": [
       "            coef  exp(coef)  se(coef)         z         p    log(p)  \\\n",
       "NOTCH1 -0.101338   0.903628  0.095587 -1.060160  0.289072 -1.241081   \n",
       "age     0.027775   1.028164  0.007584  3.662381  0.000250 -8.294521   \n",
       "gender  0.120577   1.128147  0.194207  0.620868  0.534687 -0.626075   \n",
       "\n",
       "        lower 0.95  upper 0.95  \n",
       "NOTCH1   -0.288685    0.086010  \n",
       "age       0.012911    0.042639  \n",
       "gender   -0.260061    0.501214  "
      ]
     },
     "execution_count": 379,
     "metadata": {},
     "output_type": "execute_result"
    }
   ],
   "source": [
    "s"
   ]
  },
  {
   "cell_type": "code",
   "execution_count": 279,
   "metadata": {},
   "outputs": [],
   "source": [
    "from cox_utils import *"
   ]
  },
  {
   "cell_type": "code",
   "execution_count": 282,
   "metadata": {},
   "outputs": [],
   "source": [
    "# Data is [[Patient ID, time (days), vital status, 0, sex, age at diagnosis],...]\n",
    "clinical = np.array(load_clinical())"
   ]
  },
  {
   "cell_type": "code",
   "execution_count": 284,
   "metadata": {},
   "outputs": [
    {
     "data": {
      "text/plain": [
       "array([['TCGA-02-0001', '358', 'Dead', '0', '1', '44'],\n",
       "       ['TCGA-02-0003', '144', 'Dead', '0', '0', '50'],\n",
       "       ['TCGA-02-0004', '345', 'Dead', '0', '0', '59'],\n",
       "       ['TCGA-02-0006', '558', 'Dead', '0', '1', '56'],\n",
       "       ['TCGA-02-0007', '705', 'Dead', '0', '1', '40']], dtype='<U12')"
      ]
     },
     "execution_count": 284,
     "metadata": {},
     "output_type": "execute_result"
    }
   ],
   "source": [
    "clinical[:5]"
   ]
  },
  {
   "cell_type": "code",
   "execution_count": 292,
   "metadata": {},
   "outputs": [],
   "source": [
    "data = {'patients':clinical[:,0],\n",
    "       'time_to_event':clinical[:,1],\n",
    "        'event': [1 if s == 'Dead' else 0 for s in clinical[:,2]],\n",
    "        'gender': clinical[:,4],\n",
    "        'age': clinical[:,5]\n",
    "        \n",
    "       }"
   ]
  },
  {
   "cell_type": "code",
   "execution_count": 298,
   "metadata": {},
   "outputs": [],
   "source": [
    "df_clinical = pd.DataFrame(data,)"
   ]
  },
  {
   "cell_type": "code",
   "execution_count": 303,
   "metadata": {},
   "outputs": [],
   "source": [
    "df_clinical = df_clinical.set_index('patients')\n",
    "df_clinical =df_clinical[~df_clinical.isnull().any(axis=1)]"
   ]
  },
  {
   "cell_type": "code",
   "execution_count": 301,
   "metadata": {},
   "outputs": [
    {
     "data": {
      "text/plain": [
       "(595, 5)"
      ]
     },
     "execution_count": 301,
     "metadata": {},
     "output_type": "execute_result"
    }
   ],
   "source": [
    "df_clinical.shape"
   ]
  },
  {
   "cell_type": "code",
   "execution_count": 410,
   "metadata": {},
   "outputs": [
    {
     "data": {
      "text/html": [
       "<div>\n",
       "<style scoped>\n",
       "    .dataframe tbody tr th:only-of-type {\n",
       "        vertical-align: middle;\n",
       "    }\n",
       "\n",
       "    .dataframe tbody tr th {\n",
       "        vertical-align: top;\n",
       "    }\n",
       "\n",
       "    .dataframe thead th {\n",
       "        text-align: right;\n",
       "    }\n",
       "</style>\n",
       "<table border=\"1\" class=\"dataframe\">\n",
       "  <thead>\n",
       "    <tr style=\"text-align: right;\">\n",
       "      <th></th>\n",
       "      <th>time_to_event</th>\n",
       "      <th>event</th>\n",
       "      <th>gender</th>\n",
       "      <th>age</th>\n",
       "    </tr>\n",
       "    <tr>\n",
       "      <th>patients</th>\n",
       "      <th></th>\n",
       "      <th></th>\n",
       "      <th></th>\n",
       "      <th></th>\n",
       "    </tr>\n",
       "  </thead>\n",
       "  <tbody>\n",
       "    <tr>\n",
       "      <th>TCGA-02-0001</th>\n",
       "      <td>358</td>\n",
       "      <td>1</td>\n",
       "      <td>1</td>\n",
       "      <td>44</td>\n",
       "    </tr>\n",
       "    <tr>\n",
       "      <th>TCGA-02-0003</th>\n",
       "      <td>144</td>\n",
       "      <td>1</td>\n",
       "      <td>0</td>\n",
       "      <td>50</td>\n",
       "    </tr>\n",
       "    <tr>\n",
       "      <th>TCGA-02-0004</th>\n",
       "      <td>345</td>\n",
       "      <td>1</td>\n",
       "      <td>0</td>\n",
       "      <td>59</td>\n",
       "    </tr>\n",
       "    <tr>\n",
       "      <th>TCGA-02-0006</th>\n",
       "      <td>558</td>\n",
       "      <td>1</td>\n",
       "      <td>1</td>\n",
       "      <td>56</td>\n",
       "    </tr>\n",
       "    <tr>\n",
       "      <th>TCGA-02-0007</th>\n",
       "      <td>705</td>\n",
       "      <td>1</td>\n",
       "      <td>1</td>\n",
       "      <td>40</td>\n",
       "    </tr>\n",
       "  </tbody>\n",
       "</table>\n",
       "</div>"
      ],
      "text/plain": [
       "             time_to_event  event gender age\n",
       "patients                                    \n",
       "TCGA-02-0001           358      1      1  44\n",
       "TCGA-02-0003           144      1      0  50\n",
       "TCGA-02-0004           345      1      0  59\n",
       "TCGA-02-0006           558      1      1  56\n",
       "TCGA-02-0007           705      1      1  40"
      ]
     },
     "execution_count": 410,
     "metadata": {},
     "output_type": "execute_result"
    }
   ],
   "source": [
    "df_clinical.head()"
   ]
  },
  {
   "cell_type": "code",
   "execution_count": 317,
   "metadata": {},
   "outputs": [
    {
     "data": {
      "text/plain": [
       "time_to_event    218\n",
       "event              0\n",
       "gender             0\n",
       "age               57\n",
       "Name: TCGA-14-1829, dtype: object"
      ]
     },
     "execution_count": 317,
     "metadata": {},
     "output_type": "execute_result"
    }
   ],
   "source": [
    "df_clinical.loc['TCGA-14-1829']"
   ]
  },
  {
   "cell_type": "code",
   "execution_count": 328,
   "metadata": {},
   "outputs": [
    {
     "data": {
      "text/plain": [
       "'378.6248'"
      ]
     },
     "execution_count": 328,
     "metadata": {},
     "output_type": "execute_result"
    }
   ],
   "source": [
    "df_.loc['TCGA-14-1829']['NOTCH1']"
   ]
  },
  {
   "cell_type": "code",
   "execution_count": 428,
   "metadata": {},
   "outputs": [],
   "source": [
    "clinical_names = set(df_clinical.index.values)\n",
    "exp_names = set(df_.index)"
   ]
  },
  {
   "cell_type": "code",
   "execution_count": 412,
   "metadata": {},
   "outputs": [
    {
     "data": {
      "text/plain": [
       "595"
      ]
     },
     "execution_count": 412,
     "metadata": {},
     "output_type": "execute_result"
    }
   ],
   "source": [
    "len(clinical_names)"
   ]
  },
  {
   "cell_type": "code",
   "execution_count": 430,
   "metadata": {},
   "outputs": [
    {
     "data": {
      "text/plain": [
       "set()"
      ]
     },
     "execution_count": 430,
     "metadata": {},
     "output_type": "execute_result"
    }
   ],
   "source": [
    "clinical_names.intersection(exp_names)"
   ]
  },
  {
   "cell_type": "code",
   "execution_count": 345,
   "metadata": {},
   "outputs": [],
   "source": [
    "st = '0.39460475 0.15091132 0.43753911 0.65392753 0.51048247 0.47433630 0.00711546 0.12695813 0.74702367 0.9163484'\n",
    "data = np.array([float(s) for s in st.split()])"
   ]
  },
  {
   "cell_type": "code",
   "execution_count": 349,
   "metadata": {},
   "outputs": [
    {
     "data": {
      "text/plain": [
       "array([6, 7, 1, 0, 2, 5, 4, 3, 8, 9])"
      ]
     },
     "execution_count": 349,
     "metadata": {},
     "output_type": "execute_result"
    }
   ],
   "source": [
    "rank = np.argsort(data)\n",
    "rank"
   ]
  },
  {
   "cell_type": "code",
   "execution_count": 357,
   "metadata": {},
   "outputs": [
    {
     "data": {
      "text/plain": [
       "array([0.35, 0.25, 0.45, 0.75, 0.65, 0.55, 0.05, 0.15, 0.85, 0.95])"
      ]
     },
     "execution_count": 357,
     "metadata": {},
     "output_type": "execute_result"
    }
   ],
   "source": [
    "q = [0 for _ in range(len(rank))]\n",
    "for i,k in enumerate(rank):\n",
    "    q[k] = i+1\n",
    "q = (np.array(q)-0.5) /len(q)\n",
    "q"
   ]
  },
  {
   "cell_type": "code",
   "execution_count": 354,
   "metadata": {},
   "outputs": [],
   "source": [
    "from scipy.stats import norm"
   ]
  },
  {
   "cell_type": "code",
   "execution_count": 358,
   "metadata": {},
   "outputs": [
    {
     "data": {
      "text/plain": [
       "array([-0.38532047, -0.67448975, -0.12566135,  0.67448975,  0.38532047,\n",
       "        0.12566135, -1.64485363, -1.03643339,  1.03643339,  1.64485363])"
      ]
     },
     "execution_count": 358,
     "metadata": {},
     "output_type": "execute_result"
    }
   ],
   "source": [
    "norm.ppf(q)"
   ]
  },
  {
   "cell_type": "code",
   "execution_count": 359,
   "metadata": {},
   "outputs": [],
   "source": [
    "def invers_norm(data):\n",
    "    rank = np.argsort(data)\n",
    "    q = [0 for _ in range(len(rank))]\n",
    "    for i,k in enumerate(rank):\n",
    "        q[k] = i+1\n",
    "    q = (np.array(q)-0.5) /len(q)\n",
    "    return norm.ppf(q)"
   ]
  }
 ],
 "metadata": {
  "kernelspec": {
   "display_name": "Python 3",
   "language": "python",
   "name": "python3"
  },
  "language_info": {
   "codemirror_mode": {
    "name": "ipython",
    "version": 3
   },
   "file_extension": ".py",
   "mimetype": "text/x-python",
   "name": "python",
   "nbconvert_exporter": "python",
   "pygments_lexer": "ipython3",
   "version": "3.6.5"
  }
 },
 "nbformat": 4,
 "nbformat_minor": 2
}
