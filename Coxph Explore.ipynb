{
 "cells": [
  {
   "cell_type": "code",
   "execution_count": 1,
   "metadata": {},
   "outputs": [],
   "source": [
    "from lifelines.datasets import load_rossi\n",
    "from lifelines import CoxPHFitter"
   ]
  },
  {
   "cell_type": "code",
   "execution_count": 3,
   "metadata": {},
   "outputs": [],
   "source": [
    "%matplotlib inline\n",
    "import os\n",
    "from os import path\n",
    "from glob import glob\n",
    "import numpy as np\n",
    "import pandas as pd\n",
    "from tqdm import tqdm, trange\n",
    "from utils import *"
   ]
  },
  {
   "cell_type": "code",
   "execution_count": 14,
   "metadata": {
    "collapsed": true
   },
   "outputs": [],
   "source": [
    "# cancer_type = 'Lung'\n",
    "# cluster_num = 3\n",
    "# rand_run = 4\n",
    "# clinical_filename = '/home/tunthey/Dropbox/Tunde/analysis/new_datasets/' + cancer_type + '/' + cancer_type +  '_clinical_data.txt'\n",
    "# drug_filename = '/home/tunthey/Dropbox/Tunde/analysis/new_datasets/' + cancer_type + '/' + cancer_type +  '_drug_data.txt'\n",
    "# cluster_label = '/home/tunthey/Dropbox/Tunde/analysis/new_results/MVKKM_newdata/labels/' + cancer_type + '_mvkkm_labels_K' +  str(cluster_num) + '_random_init_run' + str(rand_run) + '_rbf_kernel_old_gamma_with_shankar_distance_second_derv.txt'\n",
    "# pam50_file = '/home/tunthey/Dropbox/Tunde/analysis/PAM50/bioclassifier_R/Breastcancerpan50subtyperesult_pam50scores.txt'\n"
   ]
  },
  {
   "cell_type": "code",
   "execution_count": 34,
   "metadata": {},
   "outputs": [],
   "source": [
    "# cluster_l = open(cluster_label).readlines()\n",
    "# cluster_list = [s.rstrip() for s in cluster_l]\n",
    "# np.array(cluster_list)\n",
    "# cluster_list"
   ]
  },
  {
   "cell_type": "code",
   "execution_count": 4,
   "metadata": {},
   "outputs": [],
   "source": [
    "# rossi_dataset = load_rossi()\n",
    "# cph = CoxPHFitter()\n",
    "# cph.fit(rossi_dataset, duration_col='week', event_col='arrest')\n",
    "\n",
    "# cph.plot()\n"
   ]
  },
  {
   "cell_type": "code",
   "execution_count": 11,
   "metadata": {},
   "outputs": [],
   "source": [
    "with open('../data/exp_final_gene_list.txt', 'r') as f:\n",
    "    final_genes= [l.rstrip() for l in f.readlines()]\n",
    "with open('../data/hint_inters_pan.txt', 'r') as f:\n",
    "    hint_u_pan= [l.rstrip() for l in f.readlines()]"
   ]
  },
  {
   "cell_type": "code",
   "execution_count": 5,
   "metadata": {},
   "outputs": [],
   "source": [
    "cancer_types = ['BLCA','BRCA','CRC', 'GBM', 'HNSC', 'KIRC', 'LAML', 'LUAD', 'LUSC', 'OV', 'UCEC']"
   ]
  },
  {
   "cell_type": "code",
   "execution_count": 6,
   "metadata": {},
   "outputs": [],
   "source": [
    "comps = []\n",
    "significant_cancers =[]\n",
    "with open('../hint/out/cancer_subtype_test_results/mutex_t07_nsep_cov_nsep/cc_n100_cancer_subtype_tests.txt', 'r') as f:\n",
    "    lines = f.readlines()[:]\n",
    "    for i in range(0,len(lines), 12):\n",
    "        comp = lines[i].strip().split('[')[-1].split(',')\n",
    "        comp = [c.replace(']', '').replace('\\'', '').strip() for c in comp]\n",
    "        comps.append(comp)\n",
    "        type_interest = [j-1 for j in range(1,12) if len(lines[i+j].split()) ==8]\n",
    "        significant_cancers.append(type_interest)\n",
    "        "
   ]
  },
  {
   "cell_type": "code",
   "execution_count": 25,
   "metadata": {},
   "outputs": [],
   "source": [
    "cancer2modules = {}\n",
    "for i,m in enumerate(comps):\n",
    "    for t in significant_cancers[i]:\n",
    "        if cancer_types[t] in cancer2modules.keys():\n",
    "            cancer2modules[cancer_types[t]].append(m)\n",
    "        else:\n",
    "            cancer2modules[cancer_types[t]] = [m]"
   ]
  },
  {
   "cell_type": "code",
   "execution_count": 50,
   "metadata": {},
   "outputs": [],
   "source": [
    "module2id = {str(m):i for i,m in enumerate(comps)}\n",
    "id2module = {i:str(m) for i,m in enumerate(comps)}"
   ]
  },
  {
   "cell_type": "code",
   "execution_count": 143,
   "metadata": {},
   "outputs": [
    {
     "data": {
      "text/plain": [
       "dict_keys(['HNSC', 'LAML', 'LUAD', 'KIRC', 'OV', 'BRCA', 'GBM', 'LUSC', 'UCEC', 'CRC'])"
      ]
     },
     "execution_count": 143,
     "metadata": {},
     "output_type": "execute_result"
    }
   ],
   "source": [
    "cancer2modules.keys()"
   ]
  },
  {
   "cell_type": "code",
   "execution_count": 57,
   "metadata": {},
   "outputs": [
    {
     "data": {
      "text/plain": [
       "\"['POLR2A', 'SMARCA2', 'SMARCA4']\""
      ]
     },
     "execution_count": 57,
     "metadata": {},
     "output_type": "execute_result"
    }
   ],
   "source": [
    "id2module[0]"
   ]
  },
  {
   "cell_type": "code",
   "execution_count": 59,
   "metadata": {},
   "outputs": [],
   "source": [
    "out_path = '../hint/out/'\n",
    "data_path = '../data/'\n",
    "data_files = 'pancancer/'\n",
    "clinic_path = data_path+'clinical_data/'\n",
    "clinic_file = '{}_clinical_data.txt'\n",
    "files = glob(data_path+data_files+'*/[!MANIFEST]*.txt')"
   ]
  },
  {
   "cell_type": "code",
   "execution_count": 9,
   "metadata": {},
   "outputs": [],
   "source": [
    "cancer2file = {c.split('/')[-1].split('.')[0]:c for c in files}"
   ]
  },
  {
   "cell_type": "code",
   "execution_count": 208,
   "metadata": {},
   "outputs": [],
   "source": [
    "df = pd.read_csv(cancer2file['GBM'], delimiter = '\\t', low_memory=False)\n",
    "df.drop(df.index[0], inplace=True)\n",
    "gene_and_id = df.iloc[:, 0].values\n",
    "df.index = final_genes\n",
    "df.drop(df.columns[0], axis=1, inplace= True)\n",
    "df = df.loc[list(hint_u_pan)]"
   ]
  },
  {
   "cell_type": "code",
   "execution_count": 250,
   "metadata": {},
   "outputs": [],
   "source": [
    "df_ = df.T\n",
    "df_.index.names = ['patients']\n",
    "df_.columns.name = 'genes'"
   ]
  },
  {
   "cell_type": "code",
   "execution_count": 230,
   "metadata": {},
   "outputs": [],
   "source": [
    "ids= [s.split('-')[3] for s in df_.index]"
   ]
  },
  {
   "cell_type": "code",
   "execution_count": 231,
   "metadata": {},
   "outputs": [
    {
     "data": {
      "text/plain": [
       "(array(['01A', '01B', '01C', '02A', '02B', '11A'], dtype='<U3'),\n",
       " array([142,  10,   1,  12,   1,   5]))"
      ]
     },
     "execution_count": 231,
     "metadata": {},
     "output_type": "execute_result"
    }
   ],
   "source": [
    "np.unique(ids, return_counts=True)"
   ]
  },
  {
   "cell_type": "code",
   "execution_count": 251,
   "metadata": {},
   "outputs": [],
   "source": [
    "keep_patient = [x.split('-')[3][:2] == '01' for x in df_.index]\n",
    "df_ = df_.loc[keep_patient]"
   ]
  },
  {
   "cell_type": "code",
   "execution_count": 252,
   "metadata": {},
   "outputs": [
    {
     "data": {
      "text/plain": [
       "(153, 9523)"
      ]
     },
     "execution_count": 252,
     "metadata": {},
     "output_type": "execute_result"
    }
   ],
   "source": [
    "df_.shape"
   ]
  },
  {
   "cell_type": "code",
   "execution_count": 253,
   "metadata": {},
   "outputs": [],
   "source": [
    "df_.index = ['-'.join(x.split('-')[:3]) for x in df_.index]\n",
    "df_.index.names = ['patients']"
   ]
  },
  {
   "cell_type": "code",
   "execution_count": 254,
   "metadata": {},
   "outputs": [
    {
     "data": {
      "text/html": [
       "<div>\n",
       "<style scoped>\n",
       "    .dataframe tbody tr th:only-of-type {\n",
       "        vertical-align: middle;\n",
       "    }\n",
       "\n",
       "    .dataframe tbody tr th {\n",
       "        vertical-align: top;\n",
       "    }\n",
       "\n",
       "    .dataframe thead th {\n",
       "        text-align: right;\n",
       "    }\n",
       "</style>\n",
       "<table border=\"1\" class=\"dataframe\">\n",
       "  <thead>\n",
       "    <tr style=\"text-align: right;\">\n",
       "      <th></th>\n",
       "      <th>event</th>\n",
       "      <th>time_to_event</th>\n",
       "      <th>NUP98</th>\n",
       "      <th>ZKSCAN5</th>\n",
       "      <th>LRRC7</th>\n",
       "      <th>RHO</th>\n",
       "      <th>WASH3P</th>\n",
       "      <th>KIF21B</th>\n",
       "      <th>LASP1</th>\n",
       "      <th>C2orf62</th>\n",
       "      <th>...</th>\n",
       "      <th>LCA5</th>\n",
       "      <th>CACNB2</th>\n",
       "      <th>AMPH</th>\n",
       "      <th>GNG10</th>\n",
       "      <th>COMTD1</th>\n",
       "      <th>KNG1</th>\n",
       "      <th>RRAGB</th>\n",
       "      <th>RRAGC</th>\n",
       "      <th>TMED2</th>\n",
       "      <th>TRPT1</th>\n",
       "    </tr>\n",
       "    <tr>\n",
       "      <th>patients</th>\n",
       "      <th></th>\n",
       "      <th></th>\n",
       "      <th></th>\n",
       "      <th></th>\n",
       "      <th></th>\n",
       "      <th></th>\n",
       "      <th></th>\n",
       "      <th></th>\n",
       "      <th></th>\n",
       "      <th></th>\n",
       "      <th></th>\n",
       "      <th></th>\n",
       "      <th></th>\n",
       "      <th></th>\n",
       "      <th></th>\n",
       "      <th></th>\n",
       "      <th></th>\n",
       "      <th></th>\n",
       "      <th></th>\n",
       "      <th></th>\n",
       "      <th></th>\n",
       "    </tr>\n",
       "  </thead>\n",
       "  <tbody>\n",
       "    <tr>\n",
       "      <th>TCGA-06-5408</th>\n",
       "      <td>0</td>\n",
       "      <td>357.0</td>\n",
       "      <td>957.7029</td>\n",
       "      <td>877.3054</td>\n",
       "      <td>3.5340</td>\n",
       "      <td>1.7670</td>\n",
       "      <td>417.4489</td>\n",
       "      <td>469.1331</td>\n",
       "      <td>4161.2369</td>\n",
       "      <td>1.7670</td>\n",
       "      <td>...</td>\n",
       "      <td>99.8343</td>\n",
       "      <td>203.6444</td>\n",
       "      <td>397.5704</td>\n",
       "      <td>879.9558</td>\n",
       "      <td>55.2181</td>\n",
       "      <td>0.0000</td>\n",
       "      <td>523.4677</td>\n",
       "      <td>454.5555</td>\n",
       "      <td>3897.0734</td>\n",
       "      <td>441.7449</td>\n",
       "    </tr>\n",
       "    <tr>\n",
       "      <th>TCGA-06-5410</th>\n",
       "      <td>0</td>\n",
       "      <td>108.0</td>\n",
       "      <td>1427.7678</td>\n",
       "      <td>522.1171</td>\n",
       "      <td>29.1486</td>\n",
       "      <td>1.0228</td>\n",
       "      <td>323.1910</td>\n",
       "      <td>226.0291</td>\n",
       "      <td>4663.2575</td>\n",
       "      <td>14.8300</td>\n",
       "      <td>...</td>\n",
       "      <td>122.7308</td>\n",
       "      <td>171.8231</td>\n",
       "      <td>265.4053</td>\n",
       "      <td>2481.7182</td>\n",
       "      <td>71.0816</td>\n",
       "      <td>0.0000</td>\n",
       "      <td>313.9862</td>\n",
       "      <td>587.1542</td>\n",
       "      <td>4801.8410</td>\n",
       "      <td>407.5684</td>\n",
       "    </tr>\n",
       "    <tr>\n",
       "      <th>TCGA-06-5411</th>\n",
       "      <td>0</td>\n",
       "      <td>254.0</td>\n",
       "      <td>969.1529</td>\n",
       "      <td>658.3794</td>\n",
       "      <td>159.3002</td>\n",
       "      <td>0.9208</td>\n",
       "      <td>461.7864</td>\n",
       "      <td>1632.1363</td>\n",
       "      <td>3436.0037</td>\n",
       "      <td>1.8416</td>\n",
       "      <td>...</td>\n",
       "      <td>192.4494</td>\n",
       "      <td>410.6814</td>\n",
       "      <td>2476.9797</td>\n",
       "      <td>1406.5378</td>\n",
       "      <td>68.1400</td>\n",
       "      <td>0.4604</td>\n",
       "      <td>925.8748</td>\n",
       "      <td>506.2569</td>\n",
       "      <td>4277.6243</td>\n",
       "      <td>494.0147</td>\n",
       "    </tr>\n",
       "    <tr>\n",
       "      <th>TCGA-06-5412</th>\n",
       "      <td>0</td>\n",
       "      <td>138.0</td>\n",
       "      <td>1286.6985</td>\n",
       "      <td>568.0975</td>\n",
       "      <td>17.4881</td>\n",
       "      <td>1.5898</td>\n",
       "      <td>387.3874</td>\n",
       "      <td>308.9560</td>\n",
       "      <td>3826.1791</td>\n",
       "      <td>5.8294</td>\n",
       "      <td>...</td>\n",
       "      <td>95.9194</td>\n",
       "      <td>146.2639</td>\n",
       "      <td>115.5273</td>\n",
       "      <td>1550.0477</td>\n",
       "      <td>45.0450</td>\n",
       "      <td>0.0000</td>\n",
       "      <td>369.8993</td>\n",
       "      <td>486.2957</td>\n",
       "      <td>5172.7610</td>\n",
       "      <td>565.9777</td>\n",
       "    </tr>\n",
       "    <tr>\n",
       "      <th>TCGA-06-5413</th>\n",
       "      <td>1</td>\n",
       "      <td>268.0</td>\n",
       "      <td>1401.2230</td>\n",
       "      <td>838.1938</td>\n",
       "      <td>6.5851</td>\n",
       "      <td>1.4111</td>\n",
       "      <td>405.9266</td>\n",
       "      <td>945.9078</td>\n",
       "      <td>4133.1138</td>\n",
       "      <td>23.5183</td>\n",
       "      <td>...</td>\n",
       "      <td>140.6397</td>\n",
       "      <td>8.4666</td>\n",
       "      <td>563.4995</td>\n",
       "      <td>1268.7441</td>\n",
       "      <td>33.3960</td>\n",
       "      <td>0.0000</td>\n",
       "      <td>413.9229</td>\n",
       "      <td>460.4892</td>\n",
       "      <td>4723.4243</td>\n",
       "      <td>440.2634</td>\n",
       "    </tr>\n",
       "  </tbody>\n",
       "</table>\n",
       "<p>5 rows × 9525 columns</p>\n",
       "</div>"
      ],
      "text/plain": [
       "              event  time_to_event      NUP98   ZKSCAN5     LRRC7     RHO  \\\n",
       "patients                                                                    \n",
       "TCGA-06-5408      0          357.0   957.7029  877.3054    3.5340  1.7670   \n",
       "TCGA-06-5410      0          108.0  1427.7678  522.1171   29.1486  1.0228   \n",
       "TCGA-06-5411      0          254.0   969.1529  658.3794  159.3002  0.9208   \n",
       "TCGA-06-5412      0          138.0  1286.6985  568.0975   17.4881  1.5898   \n",
       "TCGA-06-5413      1          268.0  1401.2230  838.1938    6.5851  1.4111   \n",
       "\n",
       "                WASH3P     KIF21B      LASP1  C2orf62    ...         LCA5  \\\n",
       "patients                                                 ...                \n",
       "TCGA-06-5408  417.4489   469.1331  4161.2369   1.7670    ...      99.8343   \n",
       "TCGA-06-5410  323.1910   226.0291  4663.2575  14.8300    ...     122.7308   \n",
       "TCGA-06-5411  461.7864  1632.1363  3436.0037   1.8416    ...     192.4494   \n",
       "TCGA-06-5412  387.3874   308.9560  3826.1791   5.8294    ...      95.9194   \n",
       "TCGA-06-5413  405.9266   945.9078  4133.1138  23.5183    ...     140.6397   \n",
       "\n",
       "                CACNB2       AMPH      GNG10   COMTD1    KNG1     RRAGB  \\\n",
       "patients                                                                  \n",
       "TCGA-06-5408  203.6444   397.5704   879.9558  55.2181  0.0000  523.4677   \n",
       "TCGA-06-5410  171.8231   265.4053  2481.7182  71.0816  0.0000  313.9862   \n",
       "TCGA-06-5411  410.6814  2476.9797  1406.5378  68.1400  0.4604  925.8748   \n",
       "TCGA-06-5412  146.2639   115.5273  1550.0477  45.0450  0.0000  369.8993   \n",
       "TCGA-06-5413    8.4666   563.4995  1268.7441  33.3960  0.0000  413.9229   \n",
       "\n",
       "                 RRAGC      TMED2     TRPT1  \n",
       "patients                                     \n",
       "TCGA-06-5408  454.5555  3897.0734  441.7449  \n",
       "TCGA-06-5410  587.1542  4801.8410  407.5684  \n",
       "TCGA-06-5411  506.2569  4277.6243  494.0147  \n",
       "TCGA-06-5412  486.2957  5172.7610  565.9777  \n",
       "TCGA-06-5413  460.4892  4723.4243  440.2634  \n",
       "\n",
       "[5 rows x 9525 columns]"
      ]
     },
     "execution_count": 254,
     "metadata": {},
     "output_type": "execute_result"
    }
   ],
   "source": [
    "df2.head()"
   ]
  },
  {
   "cell_type": "code",
   "execution_count": 255,
   "metadata": {},
   "outputs": [],
   "source": [
    "df2 = df_clinic.join(df_)"
   ]
  },
  {
   "cell_type": "code",
   "execution_count": 256,
   "metadata": {},
   "outputs": [],
   "source": [
    "df2 = df2.loc[~df2[df2.columns[2:]].isnull().any(axis=1)]"
   ]
  },
  {
   "cell_type": "code",
   "execution_count": 257,
   "metadata": {},
   "outputs": [
    {
     "data": {
      "text/html": [
       "<div>\n",
       "<style scoped>\n",
       "    .dataframe tbody tr th:only-of-type {\n",
       "        vertical-align: middle;\n",
       "    }\n",
       "\n",
       "    .dataframe tbody tr th {\n",
       "        vertical-align: top;\n",
       "    }\n",
       "\n",
       "    .dataframe thead th {\n",
       "        text-align: right;\n",
       "    }\n",
       "</style>\n",
       "<table border=\"1\" class=\"dataframe\">\n",
       "  <thead>\n",
       "    <tr style=\"text-align: right;\">\n",
       "      <th></th>\n",
       "      <th>event</th>\n",
       "      <th>time_to_event</th>\n",
       "      <th>age</th>\n",
       "      <th>gender</th>\n",
       "      <th>NUP98</th>\n",
       "      <th>ZKSCAN5</th>\n",
       "      <th>LRRC7</th>\n",
       "      <th>RHO</th>\n",
       "      <th>WASH3P</th>\n",
       "      <th>KIF21B</th>\n",
       "      <th>...</th>\n",
       "      <th>LCA5</th>\n",
       "      <th>CACNB2</th>\n",
       "      <th>AMPH</th>\n",
       "      <th>GNG10</th>\n",
       "      <th>COMTD1</th>\n",
       "      <th>KNG1</th>\n",
       "      <th>RRAGB</th>\n",
       "      <th>RRAGC</th>\n",
       "      <th>TMED2</th>\n",
       "      <th>TRPT1</th>\n",
       "    </tr>\n",
       "    <tr>\n",
       "      <th>patients</th>\n",
       "      <th></th>\n",
       "      <th></th>\n",
       "      <th></th>\n",
       "      <th></th>\n",
       "      <th></th>\n",
       "      <th></th>\n",
       "      <th></th>\n",
       "      <th></th>\n",
       "      <th></th>\n",
       "      <th></th>\n",
       "      <th></th>\n",
       "      <th></th>\n",
       "      <th></th>\n",
       "      <th></th>\n",
       "      <th></th>\n",
       "      <th></th>\n",
       "      <th></th>\n",
       "      <th></th>\n",
       "      <th></th>\n",
       "      <th></th>\n",
       "      <th></th>\n",
       "    </tr>\n",
       "  </thead>\n",
       "  <tbody>\n",
       "    <tr>\n",
       "      <th>TCGA-06-5408</th>\n",
       "      <td>0</td>\n",
       "      <td>357.0</td>\n",
       "      <td>54</td>\n",
       "      <td>1</td>\n",
       "      <td>957.7029</td>\n",
       "      <td>877.3054</td>\n",
       "      <td>3.5340</td>\n",
       "      <td>1.7670</td>\n",
       "      <td>417.4489</td>\n",
       "      <td>469.1331</td>\n",
       "      <td>...</td>\n",
       "      <td>99.8343</td>\n",
       "      <td>203.6444</td>\n",
       "      <td>397.5704</td>\n",
       "      <td>879.9558</td>\n",
       "      <td>55.2181</td>\n",
       "      <td>0.0000</td>\n",
       "      <td>523.4677</td>\n",
       "      <td>454.5555</td>\n",
       "      <td>3897.0734</td>\n",
       "      <td>441.7449</td>\n",
       "    </tr>\n",
       "    <tr>\n",
       "      <th>TCGA-06-5410</th>\n",
       "      <td>0</td>\n",
       "      <td>108.0</td>\n",
       "      <td>72</td>\n",
       "      <td>1</td>\n",
       "      <td>1427.7678</td>\n",
       "      <td>522.1171</td>\n",
       "      <td>29.1486</td>\n",
       "      <td>1.0228</td>\n",
       "      <td>323.1910</td>\n",
       "      <td>226.0291</td>\n",
       "      <td>...</td>\n",
       "      <td>122.7308</td>\n",
       "      <td>171.8231</td>\n",
       "      <td>265.4053</td>\n",
       "      <td>2481.7182</td>\n",
       "      <td>71.0816</td>\n",
       "      <td>0.0000</td>\n",
       "      <td>313.9862</td>\n",
       "      <td>587.1542</td>\n",
       "      <td>4801.8410</td>\n",
       "      <td>407.5684</td>\n",
       "    </tr>\n",
       "    <tr>\n",
       "      <th>TCGA-06-5411</th>\n",
       "      <td>0</td>\n",
       "      <td>254.0</td>\n",
       "      <td>51</td>\n",
       "      <td>0</td>\n",
       "      <td>969.1529</td>\n",
       "      <td>658.3794</td>\n",
       "      <td>159.3002</td>\n",
       "      <td>0.9208</td>\n",
       "      <td>461.7864</td>\n",
       "      <td>1632.1363</td>\n",
       "      <td>...</td>\n",
       "      <td>192.4494</td>\n",
       "      <td>410.6814</td>\n",
       "      <td>2476.9797</td>\n",
       "      <td>1406.5378</td>\n",
       "      <td>68.1400</td>\n",
       "      <td>0.4604</td>\n",
       "      <td>925.8748</td>\n",
       "      <td>506.2569</td>\n",
       "      <td>4277.6243</td>\n",
       "      <td>494.0147</td>\n",
       "    </tr>\n",
       "    <tr>\n",
       "      <th>TCGA-06-5412</th>\n",
       "      <td>0</td>\n",
       "      <td>138.0</td>\n",
       "      <td>78</td>\n",
       "      <td>1</td>\n",
       "      <td>1286.6985</td>\n",
       "      <td>568.0975</td>\n",
       "      <td>17.4881</td>\n",
       "      <td>1.5898</td>\n",
       "      <td>387.3874</td>\n",
       "      <td>308.9560</td>\n",
       "      <td>...</td>\n",
       "      <td>95.9194</td>\n",
       "      <td>146.2639</td>\n",
       "      <td>115.5273</td>\n",
       "      <td>1550.0477</td>\n",
       "      <td>45.0450</td>\n",
       "      <td>0.0000</td>\n",
       "      <td>369.8993</td>\n",
       "      <td>486.2957</td>\n",
       "      <td>5172.7610</td>\n",
       "      <td>565.9777</td>\n",
       "    </tr>\n",
       "    <tr>\n",
       "      <th>TCGA-06-5413</th>\n",
       "      <td>1</td>\n",
       "      <td>268.0</td>\n",
       "      <td>67</td>\n",
       "      <td>0</td>\n",
       "      <td>1401.2230</td>\n",
       "      <td>838.1938</td>\n",
       "      <td>6.5851</td>\n",
       "      <td>1.4111</td>\n",
       "      <td>405.9266</td>\n",
       "      <td>945.9078</td>\n",
       "      <td>...</td>\n",
       "      <td>140.6397</td>\n",
       "      <td>8.4666</td>\n",
       "      <td>563.4995</td>\n",
       "      <td>1268.7441</td>\n",
       "      <td>33.3960</td>\n",
       "      <td>0.0000</td>\n",
       "      <td>413.9229</td>\n",
       "      <td>460.4892</td>\n",
       "      <td>4723.4243</td>\n",
       "      <td>440.2634</td>\n",
       "    </tr>\n",
       "  </tbody>\n",
       "</table>\n",
       "<p>5 rows × 9527 columns</p>\n",
       "</div>"
      ],
      "text/plain": [
       "              event  time_to_event  age  gender      NUP98   ZKSCAN5  \\\n",
       "patients                                                               \n",
       "TCGA-06-5408      0          357.0   54       1   957.7029  877.3054   \n",
       "TCGA-06-5410      0          108.0   72       1  1427.7678  522.1171   \n",
       "TCGA-06-5411      0          254.0   51       0   969.1529  658.3794   \n",
       "TCGA-06-5412      0          138.0   78       1  1286.6985  568.0975   \n",
       "TCGA-06-5413      1          268.0   67       0  1401.2230  838.1938   \n",
       "\n",
       "                 LRRC7     RHO    WASH3P     KIF21B    ...         LCA5  \\\n",
       "patients                                               ...                \n",
       "TCGA-06-5408    3.5340  1.7670  417.4489   469.1331    ...      99.8343   \n",
       "TCGA-06-5410   29.1486  1.0228  323.1910   226.0291    ...     122.7308   \n",
       "TCGA-06-5411  159.3002  0.9208  461.7864  1632.1363    ...     192.4494   \n",
       "TCGA-06-5412   17.4881  1.5898  387.3874   308.9560    ...      95.9194   \n",
       "TCGA-06-5413    6.5851  1.4111  405.9266   945.9078    ...     140.6397   \n",
       "\n",
       "                CACNB2       AMPH      GNG10   COMTD1    KNG1     RRAGB  \\\n",
       "patients                                                                  \n",
       "TCGA-06-5408  203.6444   397.5704   879.9558  55.2181  0.0000  523.4677   \n",
       "TCGA-06-5410  171.8231   265.4053  2481.7182  71.0816  0.0000  313.9862   \n",
       "TCGA-06-5411  410.6814  2476.9797  1406.5378  68.1400  0.4604  925.8748   \n",
       "TCGA-06-5412  146.2639   115.5273  1550.0477  45.0450  0.0000  369.8993   \n",
       "TCGA-06-5413    8.4666   563.4995  1268.7441  33.3960  0.0000  413.9229   \n",
       "\n",
       "                 RRAGC      TMED2     TRPT1  \n",
       "patients                                     \n",
       "TCGA-06-5408  454.5555  3897.0734  441.7449  \n",
       "TCGA-06-5410  587.1542  4801.8410  407.5684  \n",
       "TCGA-06-5411  506.2569  4277.6243  494.0147  \n",
       "TCGA-06-5412  486.2957  5172.7610  565.9777  \n",
       "TCGA-06-5413  460.4892  4723.4243  440.2634  \n",
       "\n",
       "[5 rows x 9527 columns]"
      ]
     },
     "execution_count": 257,
     "metadata": {},
     "output_type": "execute_result"
    }
   ],
   "source": [
    "df2.head()"
   ]
  },
  {
   "cell_type": "code",
   "execution_count": 258,
   "metadata": {},
   "outputs": [
    {
     "data": {
      "text/plain": [
       "(151, 9527)"
      ]
     },
     "execution_count": 258,
     "metadata": {},
     "output_type": "execute_result"
    }
   ],
   "source": [
    "df2.shape"
   ]
  },
  {
   "cell_type": "code",
   "execution_count": 206,
   "metadata": {},
   "outputs": [],
   "source": [
    "for module in cancer2modules['LAML']:\n",
    "\n",
    "        module_id = module2id[str(module)]\n",
    "#         if not os.path.exists(results_path+'{}/'.format(module_id)):\n",
    "#             os.mkdir(results_path+'{}/'.format(module_id))\n",
    "#         csv_path = results_path+'{}/{}.csv'.format(module_id, cancer)\n",
    "        df2 = df2.astype('float')\n",
    "        tmp_df  = df2[module+['event','time_to_event']]\n",
    "        cph = CoxPHFitter()\n",
    "        cph.fit(tmp_df, duration_col='time_to_event', event_col='event', show_progress=False)\n",
    "        s = cph.summary"
   ]
  },
  {
   "cell_type": "code",
   "execution_count": 274,
   "metadata": {},
   "outputs": [],
   "source": [
    "clinical_data = clinic_file.format('GBM')\n",
    "df_clinic = pd.read_csv(clinic_path+'nationwidechildrens.org_clinical_follow_up_v1.0_gbm.txt', delimiter = '\\t', low_memory=False)\n"
   ]
  },
  {
   "cell_type": "code",
   "execution_count": 275,
   "metadata": {},
   "outputs": [],
   "source": [
    "df_clinic = df_clinic.loc[2:].reset_index().drop('index', axis=1)"
   ]
  },
  {
   "cell_type": "code",
   "execution_count": null,
   "metadata": {},
   "outputs": [],
   "source": [
    "df_clinic['patients'] = df_clinic['bcr_patient_barcode'].apply()"
   ]
  },
  {
   "cell_type": "code",
   "execution_count": null,
   "metadata": {},
   "outputs": [],
   "source": [
    "df_clinic['age']"
   ]
  },
  {
   "cell_type": "code",
   "execution_count": null,
   "metadata": {},
   "outputs": [],
   "source": [
    "df_clinic['gender']\n",
    "df_clinic['event']\n",
    "df_clinic['time_to_event']"
   ]
  },
  {
   "cell_type": "code",
   "execution_count": 247,
   "metadata": {},
   "outputs": [],
   "source": [
    "df_clinic = df_clinic.set_index('patient_id')\n",
    "df_clinic.index.names = ['patients']\n",
    "#df_clinic.set_index('patient_id')"
   ]
  },
  {
   "cell_type": "code",
   "execution_count": 248,
   "metadata": {},
   "outputs": [],
   "source": [
    "df_clinic =df_clinic[~df_clinic.isnull().any(axis=1)]"
   ]
  },
  {
   "cell_type": "code",
   "execution_count": 249,
   "metadata": {},
   "outputs": [
    {
     "data": {
      "text/plain": [
       "(593, 4)"
      ]
     },
     "execution_count": 249,
     "metadata": {},
     "output_type": "execute_result"
    }
   ],
   "source": [
    "df_clinic.shape"
   ]
  },
  {
   "cell_type": "code",
   "execution_count": 276,
   "metadata": {},
   "outputs": [
    {
     "data": {
      "text/html": [
       "<div>\n",
       "<style scoped>\n",
       "    .dataframe tbody tr th:only-of-type {\n",
       "        vertical-align: middle;\n",
       "    }\n",
       "\n",
       "    .dataframe tbody tr th {\n",
       "        vertical-align: top;\n",
       "    }\n",
       "\n",
       "    .dataframe thead th {\n",
       "        text-align: right;\n",
       "    }\n",
       "</style>\n",
       "<table border=\"1\" class=\"dataframe\">\n",
       "  <thead>\n",
       "    <tr style=\"text-align: right;\">\n",
       "      <th></th>\n",
       "      <th>bcr_patient_uuid</th>\n",
       "      <th>bcr_patient_barcode</th>\n",
       "      <th>bcr_followup_barcode</th>\n",
       "      <th>bcr_followup_uuid</th>\n",
       "      <th>form_completion_date</th>\n",
       "      <th>followup_reason</th>\n",
       "      <th>followup_lost_to</th>\n",
       "      <th>radiation_treatment_adjuvant</th>\n",
       "      <th>pharmaceutical_tx_adjuvant</th>\n",
       "      <th>treatment_outcome_first_course</th>\n",
       "      <th>vital_status</th>\n",
       "      <th>last_contact_days_to</th>\n",
       "      <th>death_days_to</th>\n",
       "      <th>tumor_status</th>\n",
       "      <th>new_tumor_event_dx_indicator</th>\n",
       "      <th>treatment_outcome_at_tcga_followup</th>\n",
       "      <th>ecog_score</th>\n",
       "      <th>karnofsky_score</th>\n",
       "      <th>performance_status_timing</th>\n",
       "    </tr>\n",
       "  </thead>\n",
       "  <tbody>\n",
       "    <tr>\n",
       "      <th>0</th>\n",
       "      <td>30a1fe5e-5b12-472c-aa86-c2db8167ab23</td>\n",
       "      <td>TCGA-02-0001</td>\n",
       "      <td>TCGA-02-0001-F22169</td>\n",
       "      <td>59ed9ea3-93d3-4fa4-b186-280698d1cebf</td>\n",
       "      <td>2008-12-16</td>\n",
       "      <td>[Not Available]</td>\n",
       "      <td>[Not Available]</td>\n",
       "      <td>YES</td>\n",
       "      <td>YES</td>\n",
       "      <td>[Not Available]</td>\n",
       "      <td>Dead</td>\n",
       "      <td>279</td>\n",
       "      <td>358</td>\n",
       "      <td>WITH TUMOR</td>\n",
       "      <td>[Not Available]</td>\n",
       "      <td>[Not Available]</td>\n",
       "      <td>[Not Available]</td>\n",
       "      <td>80</td>\n",
       "      <td>[Not Available]</td>\n",
       "    </tr>\n",
       "    <tr>\n",
       "      <th>1</th>\n",
       "      <td>df3c1d61-79c1-43e9-971a-8029497ffeab</td>\n",
       "      <td>TCGA-02-0003</td>\n",
       "      <td>TCGA-02-0003-F22176</td>\n",
       "      <td>e9f7905a-d445-4f84-b80c-33bf6abeba92</td>\n",
       "      <td>2008-12-16</td>\n",
       "      <td>[Not Available]</td>\n",
       "      <td>[Not Available]</td>\n",
       "      <td>YES</td>\n",
       "      <td>YES</td>\n",
       "      <td>[Not Available]</td>\n",
       "      <td>Dead</td>\n",
       "      <td>144</td>\n",
       "      <td>144</td>\n",
       "      <td>WITH TUMOR</td>\n",
       "      <td>[Not Available]</td>\n",
       "      <td>[Not Available]</td>\n",
       "      <td>[Not Available]</td>\n",
       "      <td>100</td>\n",
       "      <td>[Not Available]</td>\n",
       "    </tr>\n",
       "    <tr>\n",
       "      <th>2</th>\n",
       "      <td>3ac8f759-2df0-4ef5-913f-ce05b8dd8937</td>\n",
       "      <td>TCGA-02-0004</td>\n",
       "      <td>TCGA-02-0004-F22180</td>\n",
       "      <td>b1cc8f47-2ca6-4d98-a461-ab6582e06b97</td>\n",
       "      <td>2008-12-17</td>\n",
       "      <td>[Not Available]</td>\n",
       "      <td>[Not Available]</td>\n",
       "      <td>YES</td>\n",
       "      <td>YES</td>\n",
       "      <td>[Not Available]</td>\n",
       "      <td>Dead</td>\n",
       "      <td>345</td>\n",
       "      <td>345</td>\n",
       "      <td>WITH TUMOR</td>\n",
       "      <td>[Not Available]</td>\n",
       "      <td>[Not Available]</td>\n",
       "      <td>[Not Available]</td>\n",
       "      <td>80</td>\n",
       "      <td>[Not Available]</td>\n",
       "    </tr>\n",
       "    <tr>\n",
       "      <th>3</th>\n",
       "      <td>98714d95-b62e-4f34-9cd1-91542da463eb</td>\n",
       "      <td>TCGA-02-0006</td>\n",
       "      <td>TCGA-02-0006-F22185</td>\n",
       "      <td>679559e4-a79a-42d0-80ff-e7c637f5cc28</td>\n",
       "      <td>2008-12-17</td>\n",
       "      <td>[Not Available]</td>\n",
       "      <td>[Not Available]</td>\n",
       "      <td>YES</td>\n",
       "      <td>YES</td>\n",
       "      <td>[Not Available]</td>\n",
       "      <td>Dead</td>\n",
       "      <td>558</td>\n",
       "      <td>558</td>\n",
       "      <td>WITH TUMOR</td>\n",
       "      <td>[Not Available]</td>\n",
       "      <td>[Not Available]</td>\n",
       "      <td>[Not Available]</td>\n",
       "      <td>80</td>\n",
       "      <td>[Not Available]</td>\n",
       "    </tr>\n",
       "    <tr>\n",
       "      <th>4</th>\n",
       "      <td>fb75eb9d-05be-4e6b-a515-f39efb15e66c</td>\n",
       "      <td>TCGA-02-0007</td>\n",
       "      <td>TCGA-02-0007-F22191</td>\n",
       "      <td>b4a8866b-4d60-428a-87ce-3a294fe7a446</td>\n",
       "      <td>2008-12-16</td>\n",
       "      <td>[Not Available]</td>\n",
       "      <td>[Not Available]</td>\n",
       "      <td>YES</td>\n",
       "      <td>YES</td>\n",
       "      <td>[Not Available]</td>\n",
       "      <td>Dead</td>\n",
       "      <td>705</td>\n",
       "      <td>705</td>\n",
       "      <td>WITH TUMOR</td>\n",
       "      <td>[Not Available]</td>\n",
       "      <td>[Not Available]</td>\n",
       "      <td>[Not Available]</td>\n",
       "      <td>80</td>\n",
       "      <td>[Not Available]</td>\n",
       "    </tr>\n",
       "  </tbody>\n",
       "</table>\n",
       "</div>"
      ],
      "text/plain": [
       "                       bcr_patient_uuid bcr_patient_barcode  \\\n",
       "0  30a1fe5e-5b12-472c-aa86-c2db8167ab23        TCGA-02-0001   \n",
       "1  df3c1d61-79c1-43e9-971a-8029497ffeab        TCGA-02-0003   \n",
       "2  3ac8f759-2df0-4ef5-913f-ce05b8dd8937        TCGA-02-0004   \n",
       "3  98714d95-b62e-4f34-9cd1-91542da463eb        TCGA-02-0006   \n",
       "4  fb75eb9d-05be-4e6b-a515-f39efb15e66c        TCGA-02-0007   \n",
       "\n",
       "  bcr_followup_barcode                     bcr_followup_uuid  \\\n",
       "0  TCGA-02-0001-F22169  59ed9ea3-93d3-4fa4-b186-280698d1cebf   \n",
       "1  TCGA-02-0003-F22176  e9f7905a-d445-4f84-b80c-33bf6abeba92   \n",
       "2  TCGA-02-0004-F22180  b1cc8f47-2ca6-4d98-a461-ab6582e06b97   \n",
       "3  TCGA-02-0006-F22185  679559e4-a79a-42d0-80ff-e7c637f5cc28   \n",
       "4  TCGA-02-0007-F22191  b4a8866b-4d60-428a-87ce-3a294fe7a446   \n",
       "\n",
       "  form_completion_date  followup_reason followup_lost_to  \\\n",
       "0           2008-12-16  [Not Available]  [Not Available]   \n",
       "1           2008-12-16  [Not Available]  [Not Available]   \n",
       "2           2008-12-17  [Not Available]  [Not Available]   \n",
       "3           2008-12-17  [Not Available]  [Not Available]   \n",
       "4           2008-12-16  [Not Available]  [Not Available]   \n",
       "\n",
       "  radiation_treatment_adjuvant pharmaceutical_tx_adjuvant  \\\n",
       "0                          YES                        YES   \n",
       "1                          YES                        YES   \n",
       "2                          YES                        YES   \n",
       "3                          YES                        YES   \n",
       "4                          YES                        YES   \n",
       "\n",
       "  treatment_outcome_first_course vital_status last_contact_days_to  \\\n",
       "0                [Not Available]         Dead                  279   \n",
       "1                [Not Available]         Dead                  144   \n",
       "2                [Not Available]         Dead                  345   \n",
       "3                [Not Available]         Dead                  558   \n",
       "4                [Not Available]         Dead                  705   \n",
       "\n",
       "  death_days_to tumor_status new_tumor_event_dx_indicator  \\\n",
       "0           358   WITH TUMOR              [Not Available]   \n",
       "1           144   WITH TUMOR              [Not Available]   \n",
       "2           345   WITH TUMOR              [Not Available]   \n",
       "3           558   WITH TUMOR              [Not Available]   \n",
       "4           705   WITH TUMOR              [Not Available]   \n",
       "\n",
       "  treatment_outcome_at_tcga_followup       ecog_score karnofsky_score  \\\n",
       "0                    [Not Available]  [Not Available]              80   \n",
       "1                    [Not Available]  [Not Available]             100   \n",
       "2                    [Not Available]  [Not Available]              80   \n",
       "3                    [Not Available]  [Not Available]              80   \n",
       "4                    [Not Available]  [Not Available]              80   \n",
       "\n",
       "  performance_status_timing  \n",
       "0           [Not Available]  \n",
       "1           [Not Available]  \n",
       "2           [Not Available]  \n",
       "3           [Not Available]  \n",
       "4           [Not Available]  "
      ]
     },
     "execution_count": 276,
     "metadata": {},
     "output_type": "execute_result"
    }
   ],
   "source": [
    "df_clinic.head()"
   ]
  },
  {
   "cell_type": "code",
   "execution_count": 101,
   "metadata": {},
   "outputs": [
    {
     "data": {
      "text/plain": [
       "(1097, 9)"
      ]
     },
     "execution_count": 101,
     "metadata": {},
     "output_type": "execute_result"
    }
   ],
   "source": [
    "df_clinic.shape"
   ]
  },
  {
   "cell_type": "code",
   "execution_count": 40,
   "metadata": {},
   "outputs": [],
   "source": [
    "df1 = df_.astype('float')"
   ]
  },
  {
   "cell_type": "code",
   "execution_count": 259,
   "metadata": {},
   "outputs": [
    {
     "data": {
      "text/plain": [
       "<lifelines.CoxPHFitter: fitted with 151 observations, 99 censored>"
      ]
     },
     "execution_count": 259,
     "metadata": {},
     "output_type": "execute_result"
    }
   ],
   "source": [
    "tmp_df  = df2[['NOTCH1']+['age','gender','event','time_to_event']].astype('float')\n",
    "cph = CoxPHFitter()\n",
    "cph.fit(tmp_df, duration_col='time_to_event', event_col='event', show_progress=False)"
   ]
  },
  {
   "cell_type": "code",
   "execution_count": 262,
   "metadata": {},
   "outputs": [],
   "source": [
    "s = cph.summary"
   ]
  },
  {
   "cell_type": "code",
   "execution_count": 260,
   "metadata": {},
   "outputs": [
    {
     "name": "stdout",
     "output_type": "stream",
     "text": [
      "<lifelines.CoxPHFitter: fitted with 151 observations, 99 censored>\n",
      "      duration col = 'time_to_event'\n",
      "         event col = 'event'\n",
      "number of subjects = 151\n",
      "  number of events = 52\n",
      "    log-likelihood = -215.92\n",
      "  time fit was run = 2019-01-23 08:51:28 UTC\n",
      "\n",
      "---\n",
      "        coef  exp(coef)  se(coef)     z    p  log(p)  lower 0.95  upper 0.95   \n",
      "NOTCH1  0.00       1.00      0.00  0.38 0.70   -0.35       -0.00        0.00   \n",
      "age     0.00       1.00      0.01  0.07 0.94   -0.06       -0.02        0.02   \n",
      "gender -0.11       0.90      0.31 -0.35 0.72   -0.32       -0.71        0.49   \n",
      "---\n",
      "Signif. codes: 0 '***' 0.0001 '**' 0.001 '*' 0.01 '.' 0.05 ' ' 1\n",
      "\n",
      "Concordance = 0.49\n",
      "Likelihood ratio test = 0.28 on 3 df, log(p)=-0.04\n"
     ]
    }
   ],
   "source": [
    "cph.print_summary()"
   ]
  },
  {
   "cell_type": "code",
   "execution_count": 263,
   "metadata": {},
   "outputs": [
    {
     "data": {
      "text/html": [
       "<div>\n",
       "<style scoped>\n",
       "    .dataframe tbody tr th:only-of-type {\n",
       "        vertical-align: middle;\n",
       "    }\n",
       "\n",
       "    .dataframe tbody tr th {\n",
       "        vertical-align: top;\n",
       "    }\n",
       "\n",
       "    .dataframe thead th {\n",
       "        text-align: right;\n",
       "    }\n",
       "</style>\n",
       "<table border=\"1\" class=\"dataframe\">\n",
       "  <thead>\n",
       "    <tr style=\"text-align: right;\">\n",
       "      <th></th>\n",
       "      <th>coef</th>\n",
       "      <th>exp(coef)</th>\n",
       "      <th>se(coef)</th>\n",
       "      <th>z</th>\n",
       "      <th>p</th>\n",
       "      <th>log(p)</th>\n",
       "      <th>lower 0.95</th>\n",
       "      <th>upper 0.95</th>\n",
       "    </tr>\n",
       "  </thead>\n",
       "  <tbody>\n",
       "    <tr>\n",
       "      <th>NOTCH1</th>\n",
       "      <td>0.000028</td>\n",
       "      <td>1.000028</td>\n",
       "      <td>0.000074</td>\n",
       "      <td>0.382534</td>\n",
       "      <td>0.702065</td>\n",
       "      <td>-0.353729</td>\n",
       "      <td>-0.000117</td>\n",
       "      <td>0.000174</td>\n",
       "    </tr>\n",
       "    <tr>\n",
       "      <th>age</th>\n",
       "      <td>0.000814</td>\n",
       "      <td>1.000814</td>\n",
       "      <td>0.011198</td>\n",
       "      <td>0.072676</td>\n",
       "      <td>0.942064</td>\n",
       "      <td>-0.059682</td>\n",
       "      <td>-0.021134</td>\n",
       "      <td>0.022761</td>\n",
       "    </tr>\n",
       "    <tr>\n",
       "      <th>gender</th>\n",
       "      <td>-0.108387</td>\n",
       "      <td>0.897281</td>\n",
       "      <td>0.307786</td>\n",
       "      <td>-0.352149</td>\n",
       "      <td>0.724727</td>\n",
       "      <td>-0.321961</td>\n",
       "      <td>-0.711636</td>\n",
       "      <td>0.494863</td>\n",
       "    </tr>\n",
       "  </tbody>\n",
       "</table>\n",
       "</div>"
      ],
      "text/plain": [
       "            coef  exp(coef)  se(coef)         z         p    log(p)  \\\n",
       "NOTCH1  0.000028   1.000028  0.000074  0.382534  0.702065 -0.353729   \n",
       "age     0.000814   1.000814  0.011198  0.072676  0.942064 -0.059682   \n",
       "gender -0.108387   0.897281  0.307786 -0.352149  0.724727 -0.321961   \n",
       "\n",
       "        lower 0.95  upper 0.95  \n",
       "NOTCH1   -0.000117    0.000174  \n",
       "age      -0.021134    0.022761  \n",
       "gender   -0.711636    0.494863  "
      ]
     },
     "execution_count": 263,
     "metadata": {},
     "output_type": "execute_result"
    }
   ],
   "source": [
    "s"
   ]
  }
 ],
 "metadata": {
  "kernelspec": {
   "display_name": "Python 3",
   "language": "python",
   "name": "python3"
  },
  "language_info": {
   "codemirror_mode": {
    "name": "ipython",
    "version": 3
   },
   "file_extension": ".py",
   "mimetype": "text/x-python",
   "name": "python",
   "nbconvert_exporter": "python",
   "pygments_lexer": "ipython3",
   "version": "3.6.5"
  }
 },
 "nbformat": 4,
 "nbformat_minor": 2
}
