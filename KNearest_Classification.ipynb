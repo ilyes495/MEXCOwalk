{
 "cells": [
  {
   "cell_type": "code",
   "execution_count": 1,
   "metadata": {},
   "outputs": [],
   "source": [
    "import os\n",
    "from os import path\n",
    "from glob import glob\n",
    "import numpy as np\n",
    "import pandas as pd\n",
    "from tqdm import tqdm, trange\n",
    "from utils import *"
   ]
  },
  {
   "cell_type": "code",
   "execution_count": 2,
   "metadata": {},
   "outputs": [],
   "source": [
    "out_path = '../hint/out/'\n",
    "data_path = '../data/'\n",
    "data_files = 'pancancer/'\n",
    "files = glob(data_path+data_files+'*/[!MANIFEST]*.txt')"
   ]
  },
  {
   "cell_type": "markdown",
   "metadata": {},
   "source": [
    "# Fix the genes in expression data"
   ]
  },
  {
   "cell_type": "markdown",
   "metadata": {},
   "source": [
    "### You can skip unitl the last two cells in this section,  and load final_genes and hint_u_pan"
   ]
  },
  {
   "cell_type": "code",
   "execution_count": 25,
   "metadata": {},
   "outputs": [],
   "source": [
    "df_genename = pd.read_csv('../data/genenames_2019_01_17.txt', delimiter = '\\t')\n",
    "df_genename = df_genename[df_genename['NCBI Gene ID'].notnull()]\n",
    "df_genename['ID'] = df_genename['NCBI Gene ID'].apply(lambda x: int(x))\n",
    "df_genename = df_genename.drop(['HGNC ID', 'NCBI Gene ID'], axis= 1)"
   ]
  },
  {
   "cell_type": "code",
   "execution_count": 212,
   "metadata": {},
   "outputs": [],
   "source": [
    "id2gene = {id_:g for id_,g in zip(df_genename.ID.values, df_genename['Approved symbol'].values)}\n",
    "gene2id = {g:id_ for id_,g in zip(df_genename.ID.values, df_genename['Approved symbol'].values)}    "
   ]
  },
  {
   "cell_type": "code",
   "execution_count": 28,
   "metadata": {},
   "outputs": [],
   "source": [
    "with open('../data/genes_pancancer_all_subtypes.txt', 'r') as f:\n",
    "    genes_in_dataset= [l.rstrip() for l in f.readlines()]"
   ]
  },
  {
   "cell_type": "code",
   "execution_count": 168,
   "metadata": {},
   "outputs": [],
   "source": [
    "genes_in_hint = []\n",
    "with open('../hint/data/hint_index_file.txt', 'r') as f:\n",
    "    for l in f.readlines():\n",
    "        genes_in_hint.append(l.rstrip().split()[1])"
   ]
  },
  {
   "cell_type": "code",
   "execution_count": null,
   "metadata": {},
   "outputs": [],
   "source": [
    "# Run this to get gene_and_id\n",
    "\n",
    "# df = pd.read_csv(files[0], delimiter = '\\t', low_memory=False)\n",
    "# df.drop(df.index[0], inplace=True)\n",
    "# gene_and_id = df.iloc[:, 0].values"
   ]
  },
  {
   "cell_type": "code",
   "execution_count": 227,
   "metadata": {},
   "outputs": [],
   "source": [
    "# if an error check the cell above\n",
    "\n",
    "exp_name2id = {}\n",
    "exp_id2name = {}\n",
    "for g in gene_and_id:\n",
    "    name,id_ = g.split('|')\n",
    "    exp_name2id[name] = id_\n",
    "    exp_id2name[id_] = name      "
   ]
  },
  {
   "cell_type": "code",
   "execution_count": 228,
   "metadata": {},
   "outputs": [],
   "source": [
    "missing_genes = []\n",
    "for gene in genes_in_hint :\n",
    "    if not gene in exp_name2id.keys():\n",
    "        missing_genes.append(gene)"
   ]
  },
  {
   "cell_type": "code",
   "execution_count": 223,
   "metadata": {},
   "outputs": [
    {
     "data": {
      "text/plain": [
       "432"
      ]
     },
     "execution_count": 223,
     "metadata": {},
     "output_type": "execute_result"
    }
   ],
   "source": [
    "len(missing_genes)"
   ]
  },
  {
   "cell_type": "code",
   "execution_count": 229,
   "metadata": {},
   "outputs": [],
   "source": [
    "fixed_genes = 0\n",
    "for g in missing_genes:\n",
    "    if g in gene2id.keys():\n",
    "        id_ = gene2id[g]\n",
    "        if str(id_) in exp_id2name.keys():\n",
    "            fixed_genes += 1\n",
    "            exp_id2name[str(id_)] = g"
   ]
  },
  {
   "cell_type": "code",
   "execution_count": 226,
   "metadata": {},
   "outputs": [
    {
     "data": {
      "text/plain": [
       "152"
      ]
     },
     "execution_count": 226,
     "metadata": {},
     "output_type": "execute_result"
    }
   ],
   "source": [
    "fixed_genes"
   ]
  },
  {
   "cell_type": "code",
   "execution_count": 231,
   "metadata": {},
   "outputs": [],
   "source": [
    "final_genes = []\n",
    "for g in gene_and_id:\n",
    "    name,id_ = g.split('|')\n",
    "    final_genes.append(exp_id2name[id_])"
   ]
  },
  {
   "cell_type": "code",
   "execution_count": 240,
   "metadata": {},
   "outputs": [],
   "source": [
    "# Gene names used for indexing the expression data \n",
    "\n",
    "# with open('../data/exp_final_gene_list.txt', 'w') as f:\n",
    "#     f.write('\\n'.join(final_genes))\n",
    "\n",
    "\n",
    "with open('../data/exp_final_gene_list.txt', 'r') as f:\n",
    "    final_genes= [l.rstrip() for l in f.readlines()]"
   ]
  },
  {
   "cell_type": "code",
   "execution_count": 241,
   "metadata": {},
   "outputs": [],
   "source": [
    "# Genes in hint and in expression data\n",
    "\n",
    "# with open('../data/hint_inters_pan.txt', 'w') as f:\n",
    "#     f.write('\\n'.join(hint_u_pan))\n",
    "    \n",
    "with open('../data/hint_inters_pan.txt', 'r') as f:\n",
    "    hint_u_pan= [l.rstrip() for l in f.readlines()]"
   ]
  },
  {
   "cell_type": "code",
   "execution_count": 284,
   "metadata": {},
   "outputs": [
    {
     "data": {
      "text/plain": [
       "9523"
      ]
     },
     "execution_count": 284,
     "metadata": {},
     "output_type": "execute_result"
    }
   ],
   "source": [
    "hint_u_pan = set(genes_in_hint).intersection(set(final_genes))\n",
    "len(hint_u_pan)"
   ]
  },
  {
   "cell_type": "code",
   "execution_count": 291,
   "metadata": {},
   "outputs": [
    {
     "name": "stdout",
     "output_type": "stream",
     "text": [
      "genes in in not in expression data is 339\n"
     ]
    }
   ],
   "source": [
    "print('genes in hit not in expression data is {}'.format(len(set(genes_in_hint)) - len(hint_u_pan)))"
   ]
  },
  {
   "cell_type": "markdown",
   "metadata": {},
   "source": [
    "# Merge the data"
   ]
  },
  {
   "cell_type": "code",
   "execution_count": 3,
   "metadata": {},
   "outputs": [],
   "source": [
    "allowed_cancer_types = ['LUSC','HNSC','BLCA', 'GBM', 'LUAD', 'KIRC', 'UCEC', 'COADREAD', 'BRCA']\n",
    "all_types = [c.split('/')[-1].split('.')[0] for c in files]\n",
    "cancer_type = [c for c in all_types if c in allowed_cancer_types]"
   ]
  },
  {
   "cell_type": "code",
   "execution_count": 4,
   "metadata": {
    "scrolled": true
   },
   "outputs": [
    {
     "data": {
      "text/plain": [
       "['LUSC', 'HNSC', 'BLCA', 'GBM', 'LUAD', 'KIRC', 'UCEC', 'COADREAD', 'BRCA']"
      ]
     },
     "execution_count": 4,
     "metadata": {},
     "output_type": "execute_result"
    }
   ],
   "source": [
    "cancer_type"
   ]
  },
  {
   "cell_type": "code",
   "execution_count": 273,
   "metadata": {},
   "outputs": [],
   "source": [
    "df = pd.read_csv(files[0], delimiter = '\\t', low_memory=False)\n",
    "df.drop(df.index[0], inplace=True)\n",
    "gene_and_id = df.iloc[:, 0].values\n",
    "df.index = final_genes\n",
    "df.drop(df.columns[0], axis=1, inplace= True)\n",
    "df.index.names = ['genes']\n",
    "df = df.loc[list(hint_u_pan)]"
   ]
  },
  {
   "cell_type": "code",
   "execution_count": 235,
   "metadata": {},
   "outputs": [],
   "source": [
    "hint_u_pan = set(genes_in_hint).intersection(set(final_genes))"
   ]
  },
  {
   "cell_type": "code",
   "execution_count": 238,
   "metadata": {},
   "outputs": [
    {
     "data": {
      "text/plain": [
       "(9523, 552)"
      ]
     },
     "execution_count": 238,
     "metadata": {},
     "output_type": "execute_result"
    }
   ],
   "source": [
    "df2.shape"
   ]
  },
  {
   "cell_type": "code",
   "execution_count": 237,
   "metadata": {},
   "outputs": [
    {
     "data": {
      "text/html": [
       "<div>\n",
       "<style scoped>\n",
       "    .dataframe tbody tr th:only-of-type {\n",
       "        vertical-align: middle;\n",
       "    }\n",
       "\n",
       "    .dataframe tbody tr th {\n",
       "        vertical-align: top;\n",
       "    }\n",
       "\n",
       "    .dataframe thead th {\n",
       "        text-align: right;\n",
       "    }\n",
       "</style>\n",
       "<table border=\"1\" class=\"dataframe\">\n",
       "  <thead>\n",
       "    <tr style=\"text-align: right;\">\n",
       "      <th></th>\n",
       "      <th>TCGA-18-3406-01A-01R-0980-07</th>\n",
       "      <th>TCGA-18-3407-01A-01R-0980-07</th>\n",
       "      <th>TCGA-18-3408-01A-01R-0980-07</th>\n",
       "      <th>TCGA-18-3409-01A-01R-0980-07</th>\n",
       "      <th>TCGA-18-3410-01A-01R-0980-07</th>\n",
       "      <th>TCGA-18-3411-01A-01R-0980-07</th>\n",
       "      <th>TCGA-18-3412-01A-01R-0980-07</th>\n",
       "      <th>TCGA-18-3414-01A-01R-0980-07</th>\n",
       "      <th>TCGA-18-3415-01A-01R-0980-07</th>\n",
       "      <th>TCGA-18-3416-01A-01R-0980-07</th>\n",
       "      <th>...</th>\n",
       "      <th>TCGA-NK-A5CX-01A-11R-A26W-07</th>\n",
       "      <th>TCGA-NK-A5D1-01A-11R-A26W-07</th>\n",
       "      <th>TCGA-NK-A7XE-01A-12R-A405-07</th>\n",
       "      <th>TCGA-O2-A52N-01A-11R-A26W-07</th>\n",
       "      <th>TCGA-O2-A52Q-01A-11R-A26W-07</th>\n",
       "      <th>TCGA-O2-A52S-01A-11R-A262-07</th>\n",
       "      <th>TCGA-O2-A52V-01A-31R-A262-07</th>\n",
       "      <th>TCGA-O2-A52W-01A-11R-A26W-07</th>\n",
       "      <th>TCGA-O2-A5IB-01A-11R-A27Q-07</th>\n",
       "      <th>TCGA-XC-AA0X-01A-32R-A405-07</th>\n",
       "    </tr>\n",
       "    <tr>\n",
       "      <th>genes</th>\n",
       "      <th></th>\n",
       "      <th></th>\n",
       "      <th></th>\n",
       "      <th></th>\n",
       "      <th></th>\n",
       "      <th></th>\n",
       "      <th></th>\n",
       "      <th></th>\n",
       "      <th></th>\n",
       "      <th></th>\n",
       "      <th></th>\n",
       "      <th></th>\n",
       "      <th></th>\n",
       "      <th></th>\n",
       "      <th></th>\n",
       "      <th></th>\n",
       "      <th></th>\n",
       "      <th></th>\n",
       "      <th></th>\n",
       "      <th></th>\n",
       "      <th></th>\n",
       "    </tr>\n",
       "  </thead>\n",
       "  <tbody>\n",
       "    <tr>\n",
       "      <th>NUP98</th>\n",
       "      <td>1388.1890</td>\n",
       "      <td>3714.0818</td>\n",
       "      <td>1574.9666</td>\n",
       "      <td>2000.0000</td>\n",
       "      <td>1679.1381</td>\n",
       "      <td>2547.7220</td>\n",
       "      <td>1995.6964</td>\n",
       "      <td>1415.9129</td>\n",
       "      <td>2402.3121</td>\n",
       "      <td>2099.3817</td>\n",
       "      <td>...</td>\n",
       "      <td>2080.4499</td>\n",
       "      <td>2058.9953</td>\n",
       "      <td>1773.7042</td>\n",
       "      <td>3149.7268</td>\n",
       "      <td>1639.2669</td>\n",
       "      <td>6826.9868</td>\n",
       "      <td>2043.9122</td>\n",
       "      <td>2214.9382</td>\n",
       "      <td>3759.5847</td>\n",
       "      <td>2935.1429</td>\n",
       "    </tr>\n",
       "    <tr>\n",
       "      <th>ZKSCAN5</th>\n",
       "      <td>241.7323</td>\n",
       "      <td>390.5804</td>\n",
       "      <td>389.1443</td>\n",
       "      <td>428.7179</td>\n",
       "      <td>359.2245</td>\n",
       "      <td>411.9481</td>\n",
       "      <td>344.2879</td>\n",
       "      <td>428.6505</td>\n",
       "      <td>306.9364</td>\n",
       "      <td>348.1303</td>\n",
       "      <td>...</td>\n",
       "      <td>285.1204</td>\n",
       "      <td>441.5888</td>\n",
       "      <td>200.3793</td>\n",
       "      <td>209.8361</td>\n",
       "      <td>278.8444</td>\n",
       "      <td>483.8576</td>\n",
       "      <td>506.7759</td>\n",
       "      <td>499.1940</td>\n",
       "      <td>578.5410</td>\n",
       "      <td>296.4896</td>\n",
       "    </tr>\n",
       "    <tr>\n",
       "      <th>LRRC7</th>\n",
       "      <td>0.7874</td>\n",
       "      <td>0.9515</td>\n",
       "      <td>14.8302</td>\n",
       "      <td>0.5128</td>\n",
       "      <td>1.5755</td>\n",
       "      <td>0.0000</td>\n",
       "      <td>0.0000</td>\n",
       "      <td>4.4305</td>\n",
       "      <td>0.5780</td>\n",
       "      <td>0.0000</td>\n",
       "      <td>...</td>\n",
       "      <td>0.9781</td>\n",
       "      <td>1.7523</td>\n",
       "      <td>2.5284</td>\n",
       "      <td>0.0000</td>\n",
       "      <td>0.4970</td>\n",
       "      <td>11.1755</td>\n",
       "      <td>0.0000</td>\n",
       "      <td>28.4793</td>\n",
       "      <td>682.9073</td>\n",
       "      <td>2.6099</td>\n",
       "    </tr>\n",
       "    <tr>\n",
       "      <th>RHO</th>\n",
       "      <td>0.0000</td>\n",
       "      <td>0.0000</td>\n",
       "      <td>0.0000</td>\n",
       "      <td>0.5128</td>\n",
       "      <td>1.5755</td>\n",
       "      <td>0.0000</td>\n",
       "      <td>0.0000</td>\n",
       "      <td>0.3692</td>\n",
       "      <td>0.0000</td>\n",
       "      <td>0.0000</td>\n",
       "      <td>...</td>\n",
       "      <td>0.4891</td>\n",
       "      <td>0.0000</td>\n",
       "      <td>0.6321</td>\n",
       "      <td>0.5464</td>\n",
       "      <td>0.4970</td>\n",
       "      <td>0.8278</td>\n",
       "      <td>0.0000</td>\n",
       "      <td>0.0000</td>\n",
       "      <td>0.7987</td>\n",
       "      <td>1.0440</td>\n",
       "    </tr>\n",
       "    <tr>\n",
       "      <th>WASH3P</th>\n",
       "      <td>133.8583</td>\n",
       "      <td>283.0637</td>\n",
       "      <td>58.7276</td>\n",
       "      <td>221.0256</td>\n",
       "      <td>290.6882</td>\n",
       "      <td>159.3081</td>\n",
       "      <td>333.7246</td>\n",
       "      <td>372.9001</td>\n",
       "      <td>127.1676</td>\n",
       "      <td>242.1291</td>\n",
       "      <td>...</td>\n",
       "      <td>553.1239</td>\n",
       "      <td>452.6869</td>\n",
       "      <td>790.7712</td>\n",
       "      <td>730.0546</td>\n",
       "      <td>481.1432</td>\n",
       "      <td>286.0099</td>\n",
       "      <td>662.6747</td>\n",
       "      <td>646.9640</td>\n",
       "      <td>738.2854</td>\n",
       "      <td>641.5242</td>\n",
       "    </tr>\n",
       "  </tbody>\n",
       "</table>\n",
       "<p>5 rows × 552 columns</p>\n",
       "</div>"
      ],
      "text/plain": [
       "        TCGA-18-3406-01A-01R-0980-07 TCGA-18-3407-01A-01R-0980-07  \\\n",
       "genes                                                               \n",
       "NUP98                      1388.1890                    3714.0818   \n",
       "ZKSCAN5                     241.7323                     390.5804   \n",
       "LRRC7                         0.7874                       0.9515   \n",
       "RHO                           0.0000                       0.0000   \n",
       "WASH3P                      133.8583                     283.0637   \n",
       "\n",
       "        TCGA-18-3408-01A-01R-0980-07 TCGA-18-3409-01A-01R-0980-07  \\\n",
       "genes                                                               \n",
       "NUP98                      1574.9666                    2000.0000   \n",
       "ZKSCAN5                     389.1443                     428.7179   \n",
       "LRRC7                        14.8302                       0.5128   \n",
       "RHO                           0.0000                       0.5128   \n",
       "WASH3P                       58.7276                     221.0256   \n",
       "\n",
       "        TCGA-18-3410-01A-01R-0980-07 TCGA-18-3411-01A-01R-0980-07  \\\n",
       "genes                                                               \n",
       "NUP98                      1679.1381                    2547.7220   \n",
       "ZKSCAN5                     359.2245                     411.9481   \n",
       "LRRC7                         1.5755                       0.0000   \n",
       "RHO                           1.5755                       0.0000   \n",
       "WASH3P                      290.6882                     159.3081   \n",
       "\n",
       "        TCGA-18-3412-01A-01R-0980-07 TCGA-18-3414-01A-01R-0980-07  \\\n",
       "genes                                                               \n",
       "NUP98                      1995.6964                    1415.9129   \n",
       "ZKSCAN5                     344.2879                     428.6505   \n",
       "LRRC7                         0.0000                       4.4305   \n",
       "RHO                           0.0000                       0.3692   \n",
       "WASH3P                      333.7246                     372.9001   \n",
       "\n",
       "        TCGA-18-3415-01A-01R-0980-07 TCGA-18-3416-01A-01R-0980-07  \\\n",
       "genes                                                               \n",
       "NUP98                      2402.3121                    2099.3817   \n",
       "ZKSCAN5                     306.9364                     348.1303   \n",
       "LRRC7                         0.5780                       0.0000   \n",
       "RHO                           0.0000                       0.0000   \n",
       "WASH3P                      127.1676                     242.1291   \n",
       "\n",
       "                    ...              TCGA-NK-A5CX-01A-11R-A26W-07  \\\n",
       "genes               ...                                             \n",
       "NUP98               ...                                 2080.4499   \n",
       "ZKSCAN5             ...                                  285.1204   \n",
       "LRRC7               ...                                    0.9781   \n",
       "RHO                 ...                                    0.4891   \n",
       "WASH3P              ...                                  553.1239   \n",
       "\n",
       "        TCGA-NK-A5D1-01A-11R-A26W-07 TCGA-NK-A7XE-01A-12R-A405-07  \\\n",
       "genes                                                               \n",
       "NUP98                      2058.9953                    1773.7042   \n",
       "ZKSCAN5                     441.5888                     200.3793   \n",
       "LRRC7                         1.7523                       2.5284   \n",
       "RHO                           0.0000                       0.6321   \n",
       "WASH3P                      452.6869                     790.7712   \n",
       "\n",
       "        TCGA-O2-A52N-01A-11R-A26W-07 TCGA-O2-A52Q-01A-11R-A26W-07  \\\n",
       "genes                                                               \n",
       "NUP98                      3149.7268                    1639.2669   \n",
       "ZKSCAN5                     209.8361                     278.8444   \n",
       "LRRC7                         0.0000                       0.4970   \n",
       "RHO                           0.5464                       0.4970   \n",
       "WASH3P                      730.0546                     481.1432   \n",
       "\n",
       "        TCGA-O2-A52S-01A-11R-A262-07 TCGA-O2-A52V-01A-31R-A262-07  \\\n",
       "genes                                                               \n",
       "NUP98                      6826.9868                    2043.9122   \n",
       "ZKSCAN5                     483.8576                     506.7759   \n",
       "LRRC7                        11.1755                       0.0000   \n",
       "RHO                           0.8278                       0.0000   \n",
       "WASH3P                      286.0099                     662.6747   \n",
       "\n",
       "        TCGA-O2-A52W-01A-11R-A26W-07 TCGA-O2-A5IB-01A-11R-A27Q-07  \\\n",
       "genes                                                               \n",
       "NUP98                      2214.9382                    3759.5847   \n",
       "ZKSCAN5                     499.1940                     578.5410   \n",
       "LRRC7                        28.4793                     682.9073   \n",
       "RHO                           0.0000                       0.7987   \n",
       "WASH3P                      646.9640                     738.2854   \n",
       "\n",
       "        TCGA-XC-AA0X-01A-32R-A405-07  \n",
       "genes                                 \n",
       "NUP98                      2935.1429  \n",
       "ZKSCAN5                     296.4896  \n",
       "LRRC7                         2.6099  \n",
       "RHO                           1.0440  \n",
       "WASH3P                      641.5242  \n",
       "\n",
       "[5 rows x 552 columns]"
      ]
     },
     "execution_count": 237,
     "metadata": {},
     "output_type": "execute_result"
    }
   ],
   "source": [
    "df2.head()"
   ]
  },
  {
   "cell_type": "code",
   "execution_count": 274,
   "metadata": {},
   "outputs": [
    {
     "name": "stdout",
     "output_type": "stream",
     "text": [
      "Skipped cancer  LAML\n",
      "Skipped cancer  OV\n"
     ]
    }
   ],
   "source": [
    "# Merge all the datasets that are part of cancer type list\n",
    "patients_list = []\n",
    "patients_list.append(df.columns.values[1:])\n",
    "for file in files[1:]:\n",
    "    \n",
    "    type_ = file.split('/')[-1].split('.')[0] \n",
    "    if not type_ in cancer_type: \n",
    "        print('Skipped cancer ', type_)\n",
    "        continue\n",
    "        \n",
    "    df1 = pd.read_csv(file, delimiter = '\\t', low_memory=False)\n",
    "    df1.drop(df1.index[0], inplace=True)\n",
    "    df1.index = final_genes\n",
    "    df1 = df1.loc[list(hint_u_pan)]\n",
    "    patients_list.append(df1.columns.values[1:])\n",
    "    \n",
    "    df1.drop(df1.columns[0], axis=1 ,inplace=True)\n",
    "    \n",
    "    df = df.join(df1)"
   ]
  },
  {
   "cell_type": "code",
   "execution_count": 275,
   "metadata": {},
   "outputs": [],
   "source": [
    "df_ = df.T"
   ]
  },
  {
   "cell_type": "code",
   "execution_count": 276,
   "metadata": {},
   "outputs": [],
   "source": [
    "df_.index.names = ['genes']"
   ]
  },
  {
   "cell_type": "code",
   "execution_count": 281,
   "metadata": {},
   "outputs": [],
   "source": [
    "df_.columns.name = 'patients'"
   ]
  },
  {
   "cell_type": "code",
   "execution_count": 287,
   "metadata": {},
   "outputs": [],
   "source": [
    "df_['y'] = [0 if int(str(p).split('-')[3][:2]) > 10 else 1 for p in df_.index.values]"
   ]
  },
  {
   "cell_type": "code",
   "execution_count": 289,
   "metadata": {},
   "outputs": [
    {
     "data": {
      "text/plain": [
       "(array([0, 1]), array([ 437, 4307]))"
      ]
     },
     "execution_count": 289,
     "metadata": {},
     "output_type": "execute_result"
    }
   ],
   "source": [
    "np.unique(df_['y'], return_counts = True)"
   ]
  },
  {
   "cell_type": "code",
   "execution_count": 292,
   "metadata": {},
   "outputs": [],
   "source": [
    "df_.to_csv(data_path+'pancancer_all_subtypes.csv')"
   ]
  },
  {
   "cell_type": "markdown",
   "metadata": {},
   "source": [
    "#### Data is ready... Have fun"
   ]
  },
  {
   "cell_type": "code",
   "execution_count": 3,
   "metadata": {},
   "outputs": [],
   "source": [
    "df = pd.read_csv(data_path+'pancancer_all_subtypes.csv')"
   ]
  },
  {
   "cell_type": "code",
   "execution_count": null,
   "metadata": {},
   "outputs": [],
   "source": [
    "components_path = '../hint/out/connectrd_components_isolarge_v2_n2500/'\n",
    "module_path = components_path + '{}/'"
   ]
  },
  {
   "cell_type": "code",
   "execution_count": null,
   "metadata": {},
   "outputs": [],
   "source": [
    "def get_n100_file(module_path):\n",
    "    return glob(module_path+'cc_n100_*.txt')"
   ]
  },
  {
   "cell_type": "code",
   "execution_count": 4,
   "metadata": {},
   "outputs": [],
   "source": [
    "random_state = 1234\n",
    "from sklearn.neighbors import NearestNeighbors\n",
    "from sklearn.model_selection import KFold\n",
    "from sklearn.metrics import accuracy_score"
   ]
  },
  {
   "cell_type": "code",
   "execution_count": null,
   "metadata": {},
   "outputs": [],
   "source": []
  }
 ],
 "metadata": {
  "kernelspec": {
   "display_name": "Python 3",
   "language": "python",
   "name": "python3"
  },
  "language_info": {
   "codemirror_mode": {
    "name": "ipython",
    "version": 3
   },
   "file_extension": ".py",
   "mimetype": "text/x-python",
   "name": "python",
   "nbconvert_exporter": "python",
   "pygments_lexer": "ipython3",
   "version": "3.6.5"
  }
 },
 "nbformat": 4,
 "nbformat_minor": 2
}
