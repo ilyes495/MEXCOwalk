{
 "cells": [
  {
   "cell_type": "code",
   "execution_count": 1,
   "metadata": {},
   "outputs": [],
   "source": [
    "import os\n",
    "from os import path\n",
    "from glob import glob\n",
    "import numpy as np\n",
    "import pandas as pd\n",
    "from tqdm import tqdm, trange"
   ]
  },
  {
   "cell_type": "code",
   "execution_count": 2,
   "metadata": {},
   "outputs": [],
   "source": [
    "out_path = '../hint/out/'\n",
    "data_path = '../data/'\n",
    "data_files = 'PANcancer_expression_data/'\n",
    "files = glob(data_path+data_files+'*/[!MANIFEST]*.txt')"
   ]
  },
  {
   "cell_type": "code",
   "execution_count": 3,
   "metadata": {},
   "outputs": [],
   "source": [
    "cancer_type = ['LUSC','HNSC','BLCA', 'GBM', 'LUAD', 'KIRC', 'UCEC', 'COADREAD', 'BRCA']"
   ]
  },
  {
   "cell_type": "code",
   "execution_count": null,
   "metadata": {},
   "outputs": [],
   "source": [
    "df = pd.read_csv(files[0], delimiter = '\\t', low_memory=False)\n",
    "df.drop(df.index[0], inplace=True)"
   ]
  },
  {
   "cell_type": "code",
   "execution_count": 32,
   "metadata": {},
   "outputs": [
    {
     "data": {
      "text/plain": [
       "(20531, 553)"
      ]
     },
     "execution_count": 32,
     "metadata": {},
     "output_type": "execute_result"
    }
   ],
   "source": [
    "df.shape"
   ]
  },
  {
   "cell_type": "code",
   "execution_count": 155,
   "metadata": {},
   "outputs": [
    {
     "data": {
      "text/html": [
       "<div>\n",
       "<style scoped>\n",
       "    .dataframe tbody tr th:only-of-type {\n",
       "        vertical-align: middle;\n",
       "    }\n",
       "\n",
       "    .dataframe tbody tr th {\n",
       "        vertical-align: top;\n",
       "    }\n",
       "\n",
       "    .dataframe thead th {\n",
       "        text-align: right;\n",
       "    }\n",
       "</style>\n",
       "<table border=\"1\" class=\"dataframe\">\n",
       "  <thead>\n",
       "    <tr style=\"text-align: right;\">\n",
       "      <th></th>\n",
       "      <th>Hybridization REF</th>\n",
       "      <th>TCGA-18-3406-01A-01R-0980-07</th>\n",
       "      <th>TCGA-18-3407-01A-01R-0980-07</th>\n",
       "      <th>TCGA-18-3408-01A-01R-0980-07</th>\n",
       "      <th>TCGA-18-3409-01A-01R-0980-07</th>\n",
       "      <th>TCGA-18-3410-01A-01R-0980-07</th>\n",
       "      <th>TCGA-18-3411-01A-01R-0980-07</th>\n",
       "      <th>TCGA-18-3412-01A-01R-0980-07</th>\n",
       "      <th>TCGA-18-3414-01A-01R-0980-07</th>\n",
       "      <th>TCGA-18-3415-01A-01R-0980-07</th>\n",
       "      <th>...</th>\n",
       "      <th>TCGA-NK-A5CX-01A-11R-A26W-07</th>\n",
       "      <th>TCGA-NK-A5D1-01A-11R-A26W-07</th>\n",
       "      <th>TCGA-NK-A7XE-01A-12R-A405-07</th>\n",
       "      <th>TCGA-O2-A52N-01A-11R-A26W-07</th>\n",
       "      <th>TCGA-O2-A52Q-01A-11R-A26W-07</th>\n",
       "      <th>TCGA-O2-A52S-01A-11R-A262-07</th>\n",
       "      <th>TCGA-O2-A52V-01A-31R-A262-07</th>\n",
       "      <th>TCGA-O2-A52W-01A-11R-A26W-07</th>\n",
       "      <th>TCGA-O2-A5IB-01A-11R-A27Q-07</th>\n",
       "      <th>TCGA-XC-AA0X-01A-32R-A405-07</th>\n",
       "    </tr>\n",
       "  </thead>\n",
       "  <tbody>\n",
       "    <tr>\n",
       "      <th>1</th>\n",
       "      <td>?|100130426</td>\n",
       "      <td>0.0000</td>\n",
       "      <td>0.0000</td>\n",
       "      <td>0.0000</td>\n",
       "      <td>0.0000</td>\n",
       "      <td>0.0000</td>\n",
       "      <td>0.0000</td>\n",
       "      <td>0.0000</td>\n",
       "      <td>0.0000</td>\n",
       "      <td>0.0000</td>\n",
       "      <td>...</td>\n",
       "      <td>0.0000</td>\n",
       "      <td>0.0000</td>\n",
       "      <td>0.0000</td>\n",
       "      <td>0.0000</td>\n",
       "      <td>0.0000</td>\n",
       "      <td>0.0000</td>\n",
       "      <td>0.0000</td>\n",
       "      <td>0.0000</td>\n",
       "      <td>0.0000</td>\n",
       "      <td>0.0000</td>\n",
       "    </tr>\n",
       "    <tr>\n",
       "      <th>2</th>\n",
       "      <td>?|100133144</td>\n",
       "      <td>75.3622</td>\n",
       "      <td>14.4148</td>\n",
       "      <td>8.4888</td>\n",
       "      <td>2.5897</td>\n",
       "      <td>16.6653</td>\n",
       "      <td>12.9418</td>\n",
       "      <td>47.5782</td>\n",
       "      <td>12.3168</td>\n",
       "      <td>55.1387</td>\n",
       "      <td>...</td>\n",
       "      <td>40.3766</td>\n",
       "      <td>39.5911</td>\n",
       "      <td>20.8723</td>\n",
       "      <td>30.2240</td>\n",
       "      <td>4.2895</td>\n",
       "      <td>19.9503</td>\n",
       "      <td>30.0872</td>\n",
       "      <td>53.6593</td>\n",
       "      <td>72.5666</td>\n",
       "      <td>44.7501</td>\n",
       "    </tr>\n",
       "    <tr>\n",
       "      <th>3</th>\n",
       "      <td>?|100134869</td>\n",
       "      <td>25.4252</td>\n",
       "      <td>6.9933</td>\n",
       "      <td>3.3754</td>\n",
       "      <td>7.1538</td>\n",
       "      <td>19.5722</td>\n",
       "      <td>14.4142</td>\n",
       "      <td>20.8881</td>\n",
       "      <td>25.7116</td>\n",
       "      <td>39.0809</td>\n",
       "      <td>...</td>\n",
       "      <td>17.3322</td>\n",
       "      <td>21.7407</td>\n",
       "      <td>15.7901</td>\n",
       "      <td>4.2022</td>\n",
       "      <td>3.6632</td>\n",
       "      <td>47.1026</td>\n",
       "      <td>15.2957</td>\n",
       "      <td>33.3907</td>\n",
       "      <td>42.1832</td>\n",
       "      <td>23.6304</td>\n",
       "    </tr>\n",
       "    <tr>\n",
       "      <th>4</th>\n",
       "      <td>?|10357</td>\n",
       "      <td>279.9764</td>\n",
       "      <td>198.2540</td>\n",
       "      <td>254.5929</td>\n",
       "      <td>164.3744</td>\n",
       "      <td>200.8033</td>\n",
       "      <td>277.6667</td>\n",
       "      <td>394.3623</td>\n",
       "      <td>205.8704</td>\n",
       "      <td>162.0405</td>\n",
       "      <td>...</td>\n",
       "      <td>142.3695</td>\n",
       "      <td>234.1647</td>\n",
       "      <td>133.6915</td>\n",
       "      <td>131.5628</td>\n",
       "      <td>153.5980</td>\n",
       "      <td>176.7177</td>\n",
       "      <td>188.7215</td>\n",
       "      <td>260.3332</td>\n",
       "      <td>160.1624</td>\n",
       "      <td>76.6488</td>\n",
       "    </tr>\n",
       "    <tr>\n",
       "      <th>5</th>\n",
       "      <td>?|10431</td>\n",
       "      <td>1510.2362</td>\n",
       "      <td>968.6013</td>\n",
       "      <td>1474.1213</td>\n",
       "      <td>944.6154</td>\n",
       "      <td>1156.0568</td>\n",
       "      <td>1119.5816</td>\n",
       "      <td>861.5023</td>\n",
       "      <td>1030.4597</td>\n",
       "      <td>1931.2139</td>\n",
       "      <td>...</td>\n",
       "      <td>935.5667</td>\n",
       "      <td>777.4533</td>\n",
       "      <td>2257.2693</td>\n",
       "      <td>607.6503</td>\n",
       "      <td>1103.4483</td>\n",
       "      <td>1188.3278</td>\n",
       "      <td>1248.0303</td>\n",
       "      <td>789.3606</td>\n",
       "      <td>460.8626</td>\n",
       "      <td>805.9507</td>\n",
       "    </tr>\n",
       "  </tbody>\n",
       "</table>\n",
       "<p>5 rows × 553 columns</p>\n",
       "</div>"
      ],
      "text/plain": [
       "  Hybridization REF TCGA-18-3406-01A-01R-0980-07 TCGA-18-3407-01A-01R-0980-07  \\\n",
       "1       ?|100130426                       0.0000                       0.0000   \n",
       "2       ?|100133144                      75.3622                      14.4148   \n",
       "3       ?|100134869                      25.4252                       6.9933   \n",
       "4           ?|10357                     279.9764                     198.2540   \n",
       "5           ?|10431                    1510.2362                     968.6013   \n",
       "\n",
       "  TCGA-18-3408-01A-01R-0980-07 TCGA-18-3409-01A-01R-0980-07  \\\n",
       "1                       0.0000                       0.0000   \n",
       "2                       8.4888                       2.5897   \n",
       "3                       3.3754                       7.1538   \n",
       "4                     254.5929                     164.3744   \n",
       "5                    1474.1213                     944.6154   \n",
       "\n",
       "  TCGA-18-3410-01A-01R-0980-07 TCGA-18-3411-01A-01R-0980-07  \\\n",
       "1                       0.0000                       0.0000   \n",
       "2                      16.6653                      12.9418   \n",
       "3                      19.5722                      14.4142   \n",
       "4                     200.8033                     277.6667   \n",
       "5                    1156.0568                    1119.5816   \n",
       "\n",
       "  TCGA-18-3412-01A-01R-0980-07 TCGA-18-3414-01A-01R-0980-07  \\\n",
       "1                       0.0000                       0.0000   \n",
       "2                      47.5782                      12.3168   \n",
       "3                      20.8881                      25.7116   \n",
       "4                     394.3623                     205.8704   \n",
       "5                     861.5023                    1030.4597   \n",
       "\n",
       "  TCGA-18-3415-01A-01R-0980-07             ...               \\\n",
       "1                       0.0000             ...                \n",
       "2                      55.1387             ...                \n",
       "3                      39.0809             ...                \n",
       "4                     162.0405             ...                \n",
       "5                    1931.2139             ...                \n",
       "\n",
       "  TCGA-NK-A5CX-01A-11R-A26W-07 TCGA-NK-A5D1-01A-11R-A26W-07  \\\n",
       "1                       0.0000                       0.0000   \n",
       "2                      40.3766                      39.5911   \n",
       "3                      17.3322                      21.7407   \n",
       "4                     142.3695                     234.1647   \n",
       "5                     935.5667                     777.4533   \n",
       "\n",
       "  TCGA-NK-A7XE-01A-12R-A405-07 TCGA-O2-A52N-01A-11R-A26W-07  \\\n",
       "1                       0.0000                       0.0000   \n",
       "2                      20.8723                      30.2240   \n",
       "3                      15.7901                       4.2022   \n",
       "4                     133.6915                     131.5628   \n",
       "5                    2257.2693                     607.6503   \n",
       "\n",
       "  TCGA-O2-A52Q-01A-11R-A26W-07 TCGA-O2-A52S-01A-11R-A262-07  \\\n",
       "1                       0.0000                       0.0000   \n",
       "2                       4.2895                      19.9503   \n",
       "3                       3.6632                      47.1026   \n",
       "4                     153.5980                     176.7177   \n",
       "5                    1103.4483                    1188.3278   \n",
       "\n",
       "  TCGA-O2-A52V-01A-31R-A262-07 TCGA-O2-A52W-01A-11R-A26W-07  \\\n",
       "1                       0.0000                       0.0000   \n",
       "2                      30.0872                      53.6593   \n",
       "3                      15.2957                      33.3907   \n",
       "4                     188.7215                     260.3332   \n",
       "5                    1248.0303                     789.3606   \n",
       "\n",
       "  TCGA-O2-A5IB-01A-11R-A27Q-07 TCGA-XC-AA0X-01A-32R-A405-07  \n",
       "1                       0.0000                       0.0000  \n",
       "2                      72.5666                      44.7501  \n",
       "3                      42.1832                      23.6304  \n",
       "4                     160.1624                      76.6488  \n",
       "5                     460.8626                     805.9507  \n",
       "\n",
       "[5 rows x 553 columns]"
      ]
     },
     "execution_count": 155,
     "metadata": {},
     "output_type": "execute_result"
    }
   ],
   "source": [
    "df.head()"
   ]
  },
  {
   "cell_type": "code",
   "execution_count": 238,
   "metadata": {},
   "outputs": [
    {
     "name": "stdout",
     "output_type": "stream",
     "text": [
      "Skipped cancer  LAML\n",
      "Skipped cancer  OV\n"
     ]
    }
   ],
   "source": [
    "# Merge all the datasets that are part of cancer type list\n",
    "patients_list = []\n",
    "patients_list.append(df.columns.values[1:])\n",
    "for file in files[1:]:\n",
    "    \n",
    "    type_ = file.split('/')[-1].split('.')[0] \n",
    "    if not type_ in cancer_type: \n",
    "        print('Skipped cancer ', type_)\n",
    "        continue\n",
    "        \n",
    "    df1 = pd.read_csv(file, delimiter = '\\t', low_memory=False)\n",
    "    df1.drop(df1.index[0], inplace=True)\n",
    "    patients_list.append(df1.columns.values[1:])\n",
    "    df1.drop(df1.columns[0], axis=1 ,inplace=True)\n",
    "    df = pd.concat([df,df1],axis=0, sort=False)"
   ]
  },
  {
   "cell_type": "code",
   "execution_count": 243,
   "metadata": {},
   "outputs": [],
   "source": [
    "df_ = df.T"
   ]
  },
  {
   "cell_type": "code",
   "execution_count": 245,
   "metadata": {},
   "outputs": [],
   "source": [
    "df_.index = np.concatenate((np.array(['genes',]),df_.index[1:].values))\n",
    "df_.columns = df_.iloc[0].values\n",
    "df_.drop(df_.index[0], inplace = True )"
   ]
  },
  {
   "cell_type": "code",
   "execution_count": 246,
   "metadata": {},
   "outputs": [],
   "source": [
    "genes = df_.columns.values"
   ]
  },
  {
   "cell_type": "code",
   "execution_count": 247,
   "metadata": {},
   "outputs": [],
   "source": [
    "df_ = df_.drop(df_.columns[df_.apply(lambda col: '?' in str(col))], axis=1)\n",
    "df_.columns = map(lambda col: str(col).split('|')[0], df_.columns.values)"
   ]
  },
  {
   "cell_type": "code",
   "execution_count": 248,
   "metadata": {},
   "outputs": [],
   "source": [
    "df_['y'] = [0 if int(str(p).split('-')[3][:2]) > 10 else 1 for p in df_.index.values]"
   ]
  },
  {
   "cell_type": "code",
   "execution_count": 254,
   "metadata": {},
   "outputs": [],
   "source": [
    "df_.to_csv(data_path+'pancancer_all_subtypes.csv')"
   ]
  },
  {
   "cell_type": "code",
   "execution_count": null,
   "metadata": {},
   "outputs": [],
   "source": [
    "df = pd.read_csv(data_path+'pancancer_all_subtypes.csv')"
   ]
  },
  {
   "cell_type": "code",
   "execution_count": 253,
   "metadata": {},
   "outputs": [
    {
     "data": {
      "text/plain": [
       "array([0, 1])"
      ]
     },
     "execution_count": 253,
     "metadata": {},
     "output_type": "execute_result"
    }
   ],
   "source": [
    "np.unique(df_['y'])"
   ]
  }
 ],
 "metadata": {
  "kernelspec": {
   "display_name": "Python 3",
   "language": "python",
   "name": "python3"
  },
  "language_info": {
   "codemirror_mode": {
    "name": "ipython",
    "version": 3
   },
   "file_extension": ".py",
   "mimetype": "text/x-python",
   "name": "python",
   "nbconvert_exporter": "python",
   "pygments_lexer": "ipython3",
   "version": "3.6.5"
  }
 },
 "nbformat": 4,
 "nbformat_minor": 2
}
